{
 "cells": [
  {
   "cell_type": "markdown",
   "metadata": {},
   "source": [
    "# Ethekwini Electricity Usage Analysis"
   ]
  },
  {
   "cell_type": "markdown",
   "metadata": {},
   "source": [
    "### Objectives\n",
    "+ To visualise the trend of Ethekwini Municipality Electricity usage from 1996-2019.\n",
    "+ To Develop a model to predict electricity demand based on usage and access data.\n"
   ]
  },
  {
   "cell_type": "code",
   "execution_count": 288,
   "metadata": {},
   "outputs": [],
   "source": [
    "#Import important libriries\n",
    "import pandas as pd\n",
    "pd.set_option('display.max_columns', 500)\n",
    "pd.set_option('display.max_rows', 500)\n",
    "from pandas import read_csv"
   ]
  },
  {
   "cell_type": "code",
   "execution_count": 289,
   "metadata": {},
   "outputs": [
    {
     "name": "stdout",
     "output_type": "stream",
     "text": [
      "C:\\Users\\Student 95\n"
     ]
    }
   ],
   "source": [
    "cd"
   ]
  },
  {
   "cell_type": "code",
   "execution_count": 290,
   "metadata": {},
   "outputs": [
    {
     "data": {
      "text/html": [
       "<div>\n",
       "<style scoped>\n",
       "    .dataframe tbody tr th:only-of-type {\n",
       "        vertical-align: middle;\n",
       "    }\n",
       "\n",
       "    .dataframe tbody tr th {\n",
       "        vertical-align: top;\n",
       "    }\n",
       "\n",
       "    .dataframe thead th {\n",
       "        text-align: right;\n",
       "    }\n",
       "</style>\n",
       "<table border=\"1\" class=\"dataframe\">\n",
       "  <thead>\n",
       "    <tr style=\"text-align: right;\">\n",
       "      <th></th>\n",
       "      <th>Year</th>\n",
       "      <th>Maximum kVA</th>\n",
       "      <th>Percent growth</th>\n",
       "      <th>Energy (kWh) sold</th>\n",
       "      <th>Percent energy growth (%)</th>\n",
       "      <th>Energy (kWh) purchased</th>\n",
       "      <th>Percent growth (%)</th>\n",
       "      <th>Percent loss (%)</th>\n",
       "      <th>Power factor at system peak (%)</th>\n",
       "      <th>Average monthly load factor (%)</th>\n",
       "      <th>Number of customers</th>\n",
       "    </tr>\n",
       "  </thead>\n",
       "  <tbody>\n",
       "    <tr>\n",
       "      <th>0</th>\n",
       "      <td>1978/1979</td>\n",
       "      <td>804613.0</td>\n",
       "      <td>0.042300</td>\n",
       "      <td>4.335417e+09</td>\n",
       "      <td>0.062100</td>\n",
       "      <td>4.563597e+09</td>\n",
       "      <td>0.062200</td>\n",
       "      <td>0.050000</td>\n",
       "      <td>NaN</td>\n",
       "      <td>NaN</td>\n",
       "      <td>175443</td>\n",
       "    </tr>\n",
       "    <tr>\n",
       "      <th>1</th>\n",
       "      <td>1979/1980</td>\n",
       "      <td>853345.0</td>\n",
       "      <td>0.060566</td>\n",
       "      <td>4.618422e+09</td>\n",
       "      <td>0.065278</td>\n",
       "      <td>4.872542e+09</td>\n",
       "      <td>0.067698</td>\n",
       "      <td>0.052153</td>\n",
       "      <td>0.916</td>\n",
       "      <td>0.7291</td>\n",
       "      <td>181261</td>\n",
       "    </tr>\n",
       "    <tr>\n",
       "      <th>2</th>\n",
       "      <td>1980/1981</td>\n",
       "      <td>960246.0</td>\n",
       "      <td>0.125273</td>\n",
       "      <td>5.034342e+09</td>\n",
       "      <td>0.090057</td>\n",
       "      <td>5.288290e+09</td>\n",
       "      <td>0.085325</td>\n",
       "      <td>0.048021</td>\n",
       "      <td>0.963</td>\n",
       "      <td>0.7182</td>\n",
       "      <td>198892</td>\n",
       "    </tr>\n",
       "    <tr>\n",
       "      <th>3</th>\n",
       "      <td>1981/1982</td>\n",
       "      <td>1075492.0</td>\n",
       "      <td>0.120017</td>\n",
       "      <td>5.624814e+09</td>\n",
       "      <td>0.117289</td>\n",
       "      <td>5.981248e+09</td>\n",
       "      <td>0.131036</td>\n",
       "      <td>0.059592</td>\n",
       "      <td>0.896</td>\n",
       "      <td>0.7300</td>\n",
       "      <td>198338</td>\n",
       "    </tr>\n",
       "    <tr>\n",
       "      <th>4</th>\n",
       "      <td>1982/1983</td>\n",
       "      <td>1051830.0</td>\n",
       "      <td>-0.022001</td>\n",
       "      <td>4.998457e+09</td>\n",
       "      <td>-0.111356</td>\n",
       "      <td>5.201797e+09</td>\n",
       "      <td>-0.130316</td>\n",
       "      <td>0.039090</td>\n",
       "      <td>0.930</td>\n",
       "      <td>0.7140</td>\n",
       "      <td>205961</td>\n",
       "    </tr>\n",
       "  </tbody>\n",
       "</table>\n",
       "</div>"
      ],
      "text/plain": [
       "        Year  Maximum kVA  Percent growth  Energy (kWh) sold  \\\n",
       "0  1978/1979     804613.0        0.042300       4.335417e+09   \n",
       "1  1979/1980     853345.0        0.060566       4.618422e+09   \n",
       "2  1980/1981     960246.0        0.125273       5.034342e+09   \n",
       "3  1981/1982    1075492.0        0.120017       5.624814e+09   \n",
       "4  1982/1983    1051830.0       -0.022001       4.998457e+09   \n",
       "\n",
       "   Percent energy growth (%)  Energy (kWh) purchased  Percent growth (%)  \\\n",
       "0                   0.062100            4.563597e+09            0.062200   \n",
       "1                   0.065278            4.872542e+09            0.067698   \n",
       "2                   0.090057            5.288290e+09            0.085325   \n",
       "3                   0.117289            5.981248e+09            0.131036   \n",
       "4                  -0.111356            5.201797e+09           -0.130316   \n",
       "\n",
       "   Percent loss (%)  Power factor at system peak (%)  \\\n",
       "0          0.050000                              NaN   \n",
       "1          0.052153                            0.916   \n",
       "2          0.048021                            0.963   \n",
       "3          0.059592                            0.896   \n",
       "4          0.039090                            0.930   \n",
       "\n",
       "   Average monthly load factor (%)  Number of customers  \n",
       "0                              NaN               175443  \n",
       "1                           0.7291               181261  \n",
       "2                           0.7182               198892  \n",
       "3                           0.7300               198338  \n",
       "4                           0.7140               205961  "
      ]
     },
     "execution_count": 290,
     "metadata": {},
     "output_type": "execute_result"
    }
   ],
   "source": [
    "df1 = pd.read_excel(r\"C:\\Users\\Student 95\\Downloads\\electricity-use-ethekwini.xlsx\")\n",
    "df1.head()"
   ]
  },
  {
   "cell_type": "code",
   "execution_count": 409,
   "metadata": {},
   "outputs": [],
   "source": [
    "# droping variable that are unneeded to the contribution of the goal"
   ]
  },
  {
   "cell_type": "code",
   "execution_count": 291,
   "metadata": {},
   "outputs": [],
   "source": [
    "df1 = df1.drop(columns=['Percent energy growth (%)','Percent growth (%)','Percent loss (%)',\n",
    "                        'Power factor at system peak (%)','Average monthly load factor (%)',\n",
    "                        'Percent growth','Maximum kVA','Energy (kWh) purchased','Number of customers'], axis=1)"
   ]
  },
  {
   "cell_type": "code",
   "execution_count": 292,
   "metadata": {},
   "outputs": [
    {
     "data": {
      "text/plain": [
       "(41, 2)"
      ]
     },
     "execution_count": 292,
     "metadata": {},
     "output_type": "execute_result"
    }
   ],
   "source": [
    "df1.shape"
   ]
  },
  {
   "cell_type": "code",
   "execution_count": 293,
   "metadata": {},
   "outputs": [
    {
     "data": {
      "text/html": [
       "<div>\n",
       "<style scoped>\n",
       "    .dataframe tbody tr th:only-of-type {\n",
       "        vertical-align: middle;\n",
       "    }\n",
       "\n",
       "    .dataframe tbody tr th {\n",
       "        vertical-align: top;\n",
       "    }\n",
       "\n",
       "    .dataframe thead th {\n",
       "        text-align: right;\n",
       "    }\n",
       "</style>\n",
       "<table border=\"1\" class=\"dataframe\">\n",
       "  <thead>\n",
       "    <tr style=\"text-align: right;\">\n",
       "      <th></th>\n",
       "      <th>Year</th>\n",
       "      <th>Energy (kWh) sold</th>\n",
       "    </tr>\n",
       "  </thead>\n",
       "  <tbody>\n",
       "    <tr>\n",
       "      <th>0</th>\n",
       "      <td>1978/1979</td>\n",
       "      <td>4.335417e+09</td>\n",
       "    </tr>\n",
       "    <tr>\n",
       "      <th>1</th>\n",
       "      <td>1979/1980</td>\n",
       "      <td>4.618422e+09</td>\n",
       "    </tr>\n",
       "    <tr>\n",
       "      <th>2</th>\n",
       "      <td>1980/1981</td>\n",
       "      <td>5.034342e+09</td>\n",
       "    </tr>\n",
       "    <tr>\n",
       "      <th>3</th>\n",
       "      <td>1981/1982</td>\n",
       "      <td>5.624814e+09</td>\n",
       "    </tr>\n",
       "    <tr>\n",
       "      <th>4</th>\n",
       "      <td>1982/1983</td>\n",
       "      <td>4.998457e+09</td>\n",
       "    </tr>\n",
       "  </tbody>\n",
       "</table>\n",
       "</div>"
      ],
      "text/plain": [
       "        Year  Energy (kWh) sold\n",
       "0  1978/1979       4.335417e+09\n",
       "1  1979/1980       4.618422e+09\n",
       "2  1980/1981       5.034342e+09\n",
       "3  1981/1982       5.624814e+09\n",
       "4  1982/1983       4.998457e+09"
      ]
     },
     "execution_count": 293,
     "metadata": {},
     "output_type": "execute_result"
    }
   ],
   "source": [
    "df1.head()"
   ]
  },
  {
   "cell_type": "code",
   "execution_count": 294,
   "metadata": {},
   "outputs": [
    {
     "data": {
      "text/html": [
       "<div>\n",
       "<style scoped>\n",
       "    .dataframe tbody tr th:only-of-type {\n",
       "        vertical-align: middle;\n",
       "    }\n",
       "\n",
       "    .dataframe tbody tr th {\n",
       "        vertical-align: top;\n",
       "    }\n",
       "\n",
       "    .dataframe thead th {\n",
       "        text-align: right;\n",
       "    }\n",
       "</style>\n",
       "<table border=\"1\" class=\"dataframe\">\n",
       "  <thead>\n",
       "    <tr style=\"text-align: right;\">\n",
       "      <th></th>\n",
       "      <th>Unnamed: 0</th>\n",
       "      <th>A: Number of business and general customers</th>\n",
       "      <th>A: Number of private residence customers</th>\n",
       "      <th>A: Number of 'other' customers</th>\n",
       "      <th>A: Number of bulk customers</th>\n",
       "      <th>A: Number of prepaid customers</th>\n",
       "      <th>A: Total number of customers</th>\n",
       "      <th>B: Business and general use</th>\n",
       "      <th>B: Private residential use</th>\n",
       "      <th>B: 'Other' use</th>\n",
       "      <th>B: Bulk use</th>\n",
       "      <th>B: Prepaid use</th>\n",
       "      <th>B: Total use</th>\n",
       "      <th>C: Business &amp; general use growth</th>\n",
       "      <th>C: Private residential use growth</th>\n",
       "      <th>C: 'Other' use growth</th>\n",
       "      <th>C: Bulk use growth</th>\n",
       "      <th>C: Prepaid use growth</th>\n",
       "      <th>C: Unit growth</th>\n",
       "      <th>C: Total revenue: business &amp; general</th>\n",
       "      <th>Total revenue: Private residences</th>\n",
       "      <th>C: Total revenue: other</th>\n",
       "      <th>C: Total revenue: bulk</th>\n",
       "      <th>C: Total revenue: prepayment</th>\n",
       "      <th>C: Total revenue: total</th>\n",
       "      <th>D: Cents per business and general</th>\n",
       "      <th>D: Cents per private residences</th>\n",
       "      <th>D: Cents per 'other'</th>\n",
       "      <th>D: Cents per bulk</th>\n",
       "      <th>D: Cents per prepaid</th>\n",
       "      <th>D: Cents per total</th>\n",
       "      <th>E: E: Use per business and general customer</th>\n",
       "      <th>E: Use per 'other'</th>\n",
       "      <th>E: Use per private and general</th>\n",
       "      <th>E: Use per bulk</th>\n",
       "      <th>E: Use per prepaid</th>\n",
       "      <th>E: Use per total</th>\n",
       "      <th>F: Rands per business and general customer</th>\n",
       "      <th>F: Rands per 'other'</th>\n",
       "      <th>F: Rands per private and general</th>\n",
       "      <th>F: Rands per bulk</th>\n",
       "      <th>F: Rands per prepaid</th>\n",
       "      <th>F: Rands per total</th>\n",
       "    </tr>\n",
       "  </thead>\n",
       "  <tbody>\n",
       "    <tr>\n",
       "      <th>0</th>\n",
       "      <td>1996/1997</td>\n",
       "      <td>34648</td>\n",
       "      <td>298514</td>\n",
       "      <td>1996</td>\n",
       "      <td>690</td>\n",
       "      <td>115903</td>\n",
       "      <td>451751</td>\n",
       "      <td>1.428221e+09</td>\n",
       "      <td>2.672470e+09</td>\n",
       "      <td>191879147.0</td>\n",
       "      <td>4.467819e+09</td>\n",
       "      <td>180942293.0</td>\n",
       "      <td>8.941331e+09</td>\n",
       "      <td>0.073174</td>\n",
       "      <td>0.056829</td>\n",
       "      <td>0.021361</td>\n",
       "      <td>0.053443</td>\n",
       "      <td>0.382357</td>\n",
       "      <td>0.061976</td>\n",
       "      <td>343457013.0</td>\n",
       "      <td>510441750.0</td>\n",
       "      <td>26281877.0</td>\n",
       "      <td>665704962.0</td>\n",
       "      <td>42209335.0</td>\n",
       "      <td>1.588095e+09</td>\n",
       "      <td>24.047892</td>\n",
       "      <td>19.100000</td>\n",
       "      <td>13.697099</td>\n",
       "      <td>14.900000</td>\n",
       "      <td>23.327512</td>\n",
       "      <td>17.761282</td>\n",
       "      <td>3435.072840</td>\n",
       "      <td>746.048174</td>\n",
       "      <td>8010.986431</td>\n",
       "      <td>539591.610749</td>\n",
       "      <td>130.096067</td>\n",
       "      <td>1649.384048</td>\n",
       "      <td>826.062623</td>\n",
       "      <td>142.495201</td>\n",
       "      <td>1097.272754</td>\n",
       "      <td>80399.150000</td>\n",
       "      <td>30.348175</td>\n",
       "      <td>292.951747</td>\n",
       "    </tr>\n",
       "    <tr>\n",
       "      <th>1</th>\n",
       "      <td>1997/1998</td>\n",
       "      <td>37816</td>\n",
       "      <td>302653</td>\n",
       "      <td>1894</td>\n",
       "      <td>669</td>\n",
       "      <td>134384</td>\n",
       "      <td>477416</td>\n",
       "      <td>1.482190e+09</td>\n",
       "      <td>2.736976e+09</td>\n",
       "      <td>204481477.0</td>\n",
       "      <td>4.574251e+09</td>\n",
       "      <td>185252692.0</td>\n",
       "      <td>9.183151e+09</td>\n",
       "      <td>0.037787</td>\n",
       "      <td>0.024137</td>\n",
       "      <td>0.065678</td>\n",
       "      <td>0.023822</td>\n",
       "      <td>0.023822</td>\n",
       "      <td>0.027045</td>\n",
       "      <td>373968739.0</td>\n",
       "      <td>568935987.0</td>\n",
       "      <td>28529103.0</td>\n",
       "      <td>716497239.0</td>\n",
       "      <td>55664362.0</td>\n",
       "      <td>1.743595e+09</td>\n",
       "      <td>25.230830</td>\n",
       "      <td>20.787028</td>\n",
       "      <td>13.951925</td>\n",
       "      <td>15.663705</td>\n",
       "      <td>30.047802</td>\n",
       "      <td>18.986896</td>\n",
       "      <td>3266.231245</td>\n",
       "      <td>753.606747</td>\n",
       "      <td>8996.897087</td>\n",
       "      <td>569787.178127</td>\n",
       "      <td>114.877696</td>\n",
       "      <td>1602.926196</td>\n",
       "      <td>824.097249</td>\n",
       "      <td>156.652444</td>\n",
       "      <td>1255.240364</td>\n",
       "      <td>89249.780643</td>\n",
       "      <td>34.518223</td>\n",
       "      <td>304.345936</td>\n",
       "    </tr>\n",
       "    <tr>\n",
       "      <th>2</th>\n",
       "      <td>1998/1999</td>\n",
       "      <td>40996</td>\n",
       "      <td>310811</td>\n",
       "      <td>1798</td>\n",
       "      <td>675</td>\n",
       "      <td>151221</td>\n",
       "      <td>505501</td>\n",
       "      <td>1.458813e+09</td>\n",
       "      <td>2.657073e+09</td>\n",
       "      <td>181010121.0</td>\n",
       "      <td>4.531910e+09</td>\n",
       "      <td>244605860.0</td>\n",
       "      <td>9.073413e+09</td>\n",
       "      <td>-0.015771</td>\n",
       "      <td>-0.029194</td>\n",
       "      <td>-0.114785</td>\n",
       "      <td>-0.009256</td>\n",
       "      <td>0.320390</td>\n",
       "      <td>-0.011950</td>\n",
       "      <td>408643217.0</td>\n",
       "      <td>613826976.0</td>\n",
       "      <td>30791039.0</td>\n",
       "      <td>747881450.0</td>\n",
       "      <td>71865355.0</td>\n",
       "      <td>1.873008e+09</td>\n",
       "      <td>28.012031</td>\n",
       "      <td>23.101621</td>\n",
       "      <td>17.010673</td>\n",
       "      <td>16.502565</td>\n",
       "      <td>29.380063</td>\n",
       "      <td>20.642817</td>\n",
       "      <td>2965.356905</td>\n",
       "      <td>712.403252</td>\n",
       "      <td>8389.419772</td>\n",
       "      <td>559495.117778</td>\n",
       "      <td>134.794914</td>\n",
       "      <td>1495.778924</td>\n",
       "      <td>830.656684</td>\n",
       "      <td>164.576698</td>\n",
       "      <td>1427.096728</td>\n",
       "      <td>92331.043210</td>\n",
       "      <td>39.602830</td>\n",
       "      <td>308.770909</td>\n",
       "    </tr>\n",
       "    <tr>\n",
       "      <th>3</th>\n",
       "      <td>1999/2000</td>\n",
       "      <td>43238</td>\n",
       "      <td>318525</td>\n",
       "      <td>1749</td>\n",
       "      <td>682</td>\n",
       "      <td>158982</td>\n",
       "      <td>523176</td>\n",
       "      <td>1.470443e+09</td>\n",
       "      <td>2.688921e+09</td>\n",
       "      <td>182979615.0</td>\n",
       "      <td>4.573100e+09</td>\n",
       "      <td>280478980.0</td>\n",
       "      <td>9.195923e+09</td>\n",
       "      <td>0.007972</td>\n",
       "      <td>0.011986</td>\n",
       "      <td>0.010881</td>\n",
       "      <td>0.009089</td>\n",
       "      <td>0.146657</td>\n",
       "      <td>0.013502</td>\n",
       "      <td>436274970.0</td>\n",
       "      <td>655686067.0</td>\n",
       "      <td>32191903.0</td>\n",
       "      <td>798197146.0</td>\n",
       "      <td>84182759.0</td>\n",
       "      <td>2.006533e+09</td>\n",
       "      <td>29.669619</td>\n",
       "      <td>24.384729</td>\n",
       "      <td>17.593164</td>\n",
       "      <td>17.454181</td>\n",
       "      <td>30.013928</td>\n",
       "      <td>21.819810</td>\n",
       "      <td>2834.010702</td>\n",
       "      <td>703.482417</td>\n",
       "      <td>8718.296884</td>\n",
       "      <td>558785.419844</td>\n",
       "      <td>147.018205</td>\n",
       "      <td>1464.759273</td>\n",
       "      <td>840.840175</td>\n",
       "      <td>171.542283</td>\n",
       "      <td>1533.824233</td>\n",
       "      <td>97531.420577</td>\n",
       "      <td>44.125938</td>\n",
       "      <td>319.607685</td>\n",
       "    </tr>\n",
       "    <tr>\n",
       "      <th>4</th>\n",
       "      <td>2000/2001</td>\n",
       "      <td>40576</td>\n",
       "      <td>319763</td>\n",
       "      <td>1619</td>\n",
       "      <td>754</td>\n",
       "      <td>162839</td>\n",
       "      <td>525551</td>\n",
       "      <td>1.604265e+09</td>\n",
       "      <td>2.640769e+09</td>\n",
       "      <td>197188369.0</td>\n",
       "      <td>4.668287e+09</td>\n",
       "      <td>296930339.0</td>\n",
       "      <td>9.407440e+09</td>\n",
       "      <td>0.091008</td>\n",
       "      <td>-0.017907</td>\n",
       "      <td>0.077652</td>\n",
       "      <td>0.020815</td>\n",
       "      <td>0.058655</td>\n",
       "      <td>0.023001</td>\n",
       "      <td>445179115.0</td>\n",
       "      <td>722925897.0</td>\n",
       "      <td>35205659.0</td>\n",
       "      <td>847835582.0</td>\n",
       "      <td>96138266.0</td>\n",
       "      <td>2.147285e+09</td>\n",
       "      <td>27.749717</td>\n",
       "      <td>27.375579</td>\n",
       "      <td>17.853821</td>\n",
       "      <td>18.161600</td>\n",
       "      <td>32.377381</td>\n",
       "      <td>22.825386</td>\n",
       "      <td>3294.774929</td>\n",
       "      <td>688.210045</td>\n",
       "      <td>10149.699866</td>\n",
       "      <td>515946.811340</td>\n",
       "      <td>151.954967</td>\n",
       "      <td>1491.678925</td>\n",
       "      <td>914.290703</td>\n",
       "      <td>188.401487</td>\n",
       "      <td>1812.109275</td>\n",
       "      <td>93704.197834</td>\n",
       "      <td>49.199038</td>\n",
       "      <td>340.481469</td>\n",
       "    </tr>\n",
       "  </tbody>\n",
       "</table>\n",
       "</div>"
      ],
      "text/plain": [
       "  Unnamed: 0  A: Number of business and general customers  \\\n",
       "0  1996/1997                                        34648   \n",
       "1  1997/1998                                        37816   \n",
       "2  1998/1999                                        40996   \n",
       "3  1999/2000                                        43238   \n",
       "4  2000/2001                                        40576   \n",
       "\n",
       "   A: Number of private residence customers  A: Number of 'other' customers  \\\n",
       "0                                    298514                            1996   \n",
       "1                                    302653                            1894   \n",
       "2                                    310811                            1798   \n",
       "3                                    318525                            1749   \n",
       "4                                    319763                            1619   \n",
       "\n",
       "   A: Number of bulk customers  A: Number of prepaid customers  \\\n",
       "0                          690                          115903   \n",
       "1                          669                          134384   \n",
       "2                          675                          151221   \n",
       "3                          682                          158982   \n",
       "4                          754                          162839   \n",
       "\n",
       "   A: Total number of customers  B: Business and general use  \\\n",
       "0                        451751                 1.428221e+09   \n",
       "1                        477416                 1.482190e+09   \n",
       "2                        505501                 1.458813e+09   \n",
       "3                        523176                 1.470443e+09   \n",
       "4                        525551                 1.604265e+09   \n",
       "\n",
       "   B: Private residential use  B: 'Other' use   B: Bulk use  B: Prepaid use  \\\n",
       "0                2.672470e+09     191879147.0  4.467819e+09     180942293.0   \n",
       "1                2.736976e+09     204481477.0  4.574251e+09     185252692.0   \n",
       "2                2.657073e+09     181010121.0  4.531910e+09     244605860.0   \n",
       "3                2.688921e+09     182979615.0  4.573100e+09     280478980.0   \n",
       "4                2.640769e+09     197188369.0  4.668287e+09     296930339.0   \n",
       "\n",
       "   B: Total use  C: Business & general use growth  \\\n",
       "0  8.941331e+09                          0.073174   \n",
       "1  9.183151e+09                          0.037787   \n",
       "2  9.073413e+09                         -0.015771   \n",
       "3  9.195923e+09                          0.007972   \n",
       "4  9.407440e+09                          0.091008   \n",
       "\n",
       "   C: Private residential use growth  C: 'Other' use growth  \\\n",
       "0                           0.056829               0.021361   \n",
       "1                           0.024137               0.065678   \n",
       "2                          -0.029194              -0.114785   \n",
       "3                           0.011986               0.010881   \n",
       "4                          -0.017907               0.077652   \n",
       "\n",
       "   C: Bulk use growth  C: Prepaid use growth  C: Unit growth  \\\n",
       "0            0.053443               0.382357        0.061976   \n",
       "1            0.023822               0.023822        0.027045   \n",
       "2           -0.009256               0.320390       -0.011950   \n",
       "3            0.009089               0.146657        0.013502   \n",
       "4            0.020815               0.058655        0.023001   \n",
       "\n",
       "   C: Total revenue: business & general   Total revenue: Private residences  \\\n",
       "0                            343457013.0                        510441750.0   \n",
       "1                            373968739.0                        568935987.0   \n",
       "2                            408643217.0                        613826976.0   \n",
       "3                            436274970.0                        655686067.0   \n",
       "4                            445179115.0                        722925897.0   \n",
       "\n",
       "   C: Total revenue: other  C: Total revenue: bulk  \\\n",
       "0               26281877.0             665704962.0   \n",
       "1               28529103.0             716497239.0   \n",
       "2               30791039.0             747881450.0   \n",
       "3               32191903.0             798197146.0   \n",
       "4               35205659.0             847835582.0   \n",
       "\n",
       "   C: Total revenue: prepayment  C: Total revenue: total  \\\n",
       "0                    42209335.0             1.588095e+09   \n",
       "1                    55664362.0             1.743595e+09   \n",
       "2                    71865355.0             1.873008e+09   \n",
       "3                    84182759.0             2.006533e+09   \n",
       "4                    96138266.0             2.147285e+09   \n",
       "\n",
       "   D: Cents per business and general  D: Cents per private residences  \\\n",
       "0                          24.047892                        19.100000   \n",
       "1                          25.230830                        20.787028   \n",
       "2                          28.012031                        23.101621   \n",
       "3                          29.669619                        24.384729   \n",
       "4                          27.749717                        27.375579   \n",
       "\n",
       "   D: Cents per 'other'  D: Cents per bulk  D: Cents per prepaid  \\\n",
       "0             13.697099          14.900000             23.327512   \n",
       "1             13.951925          15.663705             30.047802   \n",
       "2             17.010673          16.502565             29.380063   \n",
       "3             17.593164          17.454181             30.013928   \n",
       "4             17.853821          18.161600             32.377381   \n",
       "\n",
       "   D: Cents per total  E: E: Use per business and general customer   \\\n",
       "0           17.761282                                   3435.072840   \n",
       "1           18.986896                                   3266.231245   \n",
       "2           20.642817                                   2965.356905   \n",
       "3           21.819810                                   2834.010702   \n",
       "4           22.825386                                   3294.774929   \n",
       "\n",
       "   E: Use per 'other'  E: Use per private and general   E: Use per bulk  \\\n",
       "0          746.048174                      8010.986431    539591.610749   \n",
       "1          753.606747                      8996.897087    569787.178127   \n",
       "2          712.403252                      8389.419772    559495.117778   \n",
       "3          703.482417                      8718.296884    558785.419844   \n",
       "4          688.210045                     10149.699866    515946.811340   \n",
       "\n",
       "   E: Use per prepaid  E: Use per total  \\\n",
       "0          130.096067       1649.384048   \n",
       "1          114.877696       1602.926196   \n",
       "2          134.794914       1495.778924   \n",
       "3          147.018205       1464.759273   \n",
       "4          151.954967       1491.678925   \n",
       "\n",
       "   F: Rands per business and general customer   F: Rands per 'other'  \\\n",
       "0                                   826.062623            142.495201   \n",
       "1                                   824.097249            156.652444   \n",
       "2                                   830.656684            164.576698   \n",
       "3                                   840.840175            171.542283   \n",
       "4                                   914.290703            188.401487   \n",
       "\n",
       "   F: Rands per private and general   F: Rands per bulk  F: Rands per prepaid  \\\n",
       "0                        1097.272754       80399.150000             30.348175   \n",
       "1                        1255.240364       89249.780643             34.518223   \n",
       "2                        1427.096728       92331.043210             39.602830   \n",
       "3                        1533.824233       97531.420577             44.125938   \n",
       "4                        1812.109275       93704.197834             49.199038   \n",
       "\n",
       "   F: Rands per total  \n",
       "0          292.951747  \n",
       "1          304.345936  \n",
       "2          308.770909  \n",
       "3          319.607685  \n",
       "4          340.481469  "
      ]
     },
     "execution_count": 294,
     "metadata": {},
     "output_type": "execute_result"
    }
   ],
   "source": [
    "df2 = pd.read_excel(r\"C:\\Users\\Student 95\\Downloads\\electricity-customers-and-revenue.xlsx\")\n",
    "df2.head()"
   ]
  },
  {
   "cell_type": "code",
   "execution_count": 295,
   "metadata": {},
   "outputs": [
    {
     "data": {
      "text/plain": [
       "(23, 43)"
      ]
     },
     "execution_count": 295,
     "metadata": {},
     "output_type": "execute_result"
    }
   ],
   "source": [
    "df2.shape"
   ]
  },
  {
   "cell_type": "code",
   "execution_count": 410,
   "metadata": {},
   "outputs": [],
   "source": [
    "# Renaming the variable"
   ]
  },
  {
   "cell_type": "code",
   "execution_count": 296,
   "metadata": {},
   "outputs": [],
   "source": [
    "df2 = df2.rename(columns={'Unnamed: 0': 'Year'})"
   ]
  },
  {
   "cell_type": "code",
   "execution_count": 411,
   "metadata": {},
   "outputs": [],
   "source": [
    "# merging Datasets"
   ]
  },
  {
   "cell_type": "code",
   "execution_count": 297,
   "metadata": {},
   "outputs": [
    {
     "data": {
      "text/html": [
       "<div>\n",
       "<style scoped>\n",
       "    .dataframe tbody tr th:only-of-type {\n",
       "        vertical-align: middle;\n",
       "    }\n",
       "\n",
       "    .dataframe tbody tr th {\n",
       "        vertical-align: top;\n",
       "    }\n",
       "\n",
       "    .dataframe thead th {\n",
       "        text-align: right;\n",
       "    }\n",
       "</style>\n",
       "<table border=\"1\" class=\"dataframe\">\n",
       "  <thead>\n",
       "    <tr style=\"text-align: right;\">\n",
       "      <th></th>\n",
       "      <th>Year</th>\n",
       "      <th>Energy (kWh) sold</th>\n",
       "      <th>A: Number of business and general customers</th>\n",
       "      <th>A: Number of private residence customers</th>\n",
       "      <th>A: Number of 'other' customers</th>\n",
       "      <th>A: Number of bulk customers</th>\n",
       "      <th>A: Number of prepaid customers</th>\n",
       "      <th>A: Total number of customers</th>\n",
       "      <th>B: Business and general use</th>\n",
       "      <th>B: Private residential use</th>\n",
       "      <th>B: 'Other' use</th>\n",
       "      <th>B: Bulk use</th>\n",
       "      <th>B: Prepaid use</th>\n",
       "      <th>B: Total use</th>\n",
       "      <th>C: Business &amp; general use growth</th>\n",
       "      <th>C: Private residential use growth</th>\n",
       "      <th>C: 'Other' use growth</th>\n",
       "      <th>C: Bulk use growth</th>\n",
       "      <th>C: Prepaid use growth</th>\n",
       "      <th>C: Unit growth</th>\n",
       "      <th>C: Total revenue: business &amp; general</th>\n",
       "      <th>Total revenue: Private residences</th>\n",
       "      <th>C: Total revenue: other</th>\n",
       "      <th>C: Total revenue: bulk</th>\n",
       "      <th>C: Total revenue: prepayment</th>\n",
       "      <th>C: Total revenue: total</th>\n",
       "      <th>D: Cents per business and general</th>\n",
       "      <th>D: Cents per private residences</th>\n",
       "      <th>D: Cents per 'other'</th>\n",
       "      <th>D: Cents per bulk</th>\n",
       "      <th>D: Cents per prepaid</th>\n",
       "      <th>D: Cents per total</th>\n",
       "      <th>E: E: Use per business and general customer</th>\n",
       "      <th>E: Use per 'other'</th>\n",
       "      <th>E: Use per private and general</th>\n",
       "      <th>E: Use per bulk</th>\n",
       "      <th>E: Use per prepaid</th>\n",
       "      <th>E: Use per total</th>\n",
       "      <th>F: Rands per business and general customer</th>\n",
       "      <th>F: Rands per 'other'</th>\n",
       "      <th>F: Rands per private and general</th>\n",
       "      <th>F: Rands per bulk</th>\n",
       "      <th>F: Rands per prepaid</th>\n",
       "      <th>F: Rands per total</th>\n",
       "    </tr>\n",
       "  </thead>\n",
       "  <tbody>\n",
       "    <tr>\n",
       "      <th>0</th>\n",
       "      <td>1996/1997</td>\n",
       "      <td>8.941331e+09</td>\n",
       "      <td>34648</td>\n",
       "      <td>298514</td>\n",
       "      <td>1996</td>\n",
       "      <td>690</td>\n",
       "      <td>115903</td>\n",
       "      <td>451751</td>\n",
       "      <td>1.428221e+09</td>\n",
       "      <td>2.672470e+09</td>\n",
       "      <td>191879147.0</td>\n",
       "      <td>4.467819e+09</td>\n",
       "      <td>180942293.0</td>\n",
       "      <td>8.941331e+09</td>\n",
       "      <td>0.073174</td>\n",
       "      <td>0.056829</td>\n",
       "      <td>0.021361</td>\n",
       "      <td>0.053443</td>\n",
       "      <td>0.382357</td>\n",
       "      <td>0.061976</td>\n",
       "      <td>343457013.0</td>\n",
       "      <td>510441750.0</td>\n",
       "      <td>26281877.0</td>\n",
       "      <td>665704962.0</td>\n",
       "      <td>42209335.0</td>\n",
       "      <td>1.588095e+09</td>\n",
       "      <td>24.047892</td>\n",
       "      <td>19.100000</td>\n",
       "      <td>13.697099</td>\n",
       "      <td>14.900000</td>\n",
       "      <td>23.327512</td>\n",
       "      <td>17.761282</td>\n",
       "      <td>3435.072840</td>\n",
       "      <td>746.048174</td>\n",
       "      <td>8010.986431</td>\n",
       "      <td>539591.610749</td>\n",
       "      <td>130.096067</td>\n",
       "      <td>1649.384048</td>\n",
       "      <td>826.062623</td>\n",
       "      <td>142.495201</td>\n",
       "      <td>1097.272754</td>\n",
       "      <td>80399.150000</td>\n",
       "      <td>30.348175</td>\n",
       "      <td>292.951747</td>\n",
       "    </tr>\n",
       "    <tr>\n",
       "      <th>1</th>\n",
       "      <td>1997/1998</td>\n",
       "      <td>9.183151e+09</td>\n",
       "      <td>37816</td>\n",
       "      <td>302653</td>\n",
       "      <td>1894</td>\n",
       "      <td>669</td>\n",
       "      <td>134384</td>\n",
       "      <td>477416</td>\n",
       "      <td>1.482190e+09</td>\n",
       "      <td>2.736976e+09</td>\n",
       "      <td>204481477.0</td>\n",
       "      <td>4.574251e+09</td>\n",
       "      <td>185252692.0</td>\n",
       "      <td>9.183151e+09</td>\n",
       "      <td>0.037787</td>\n",
       "      <td>0.024137</td>\n",
       "      <td>0.065678</td>\n",
       "      <td>0.023822</td>\n",
       "      <td>0.023822</td>\n",
       "      <td>0.027045</td>\n",
       "      <td>373968739.0</td>\n",
       "      <td>568935987.0</td>\n",
       "      <td>28529103.0</td>\n",
       "      <td>716497239.0</td>\n",
       "      <td>55664362.0</td>\n",
       "      <td>1.743595e+09</td>\n",
       "      <td>25.230830</td>\n",
       "      <td>20.787028</td>\n",
       "      <td>13.951925</td>\n",
       "      <td>15.663705</td>\n",
       "      <td>30.047802</td>\n",
       "      <td>18.986896</td>\n",
       "      <td>3266.231245</td>\n",
       "      <td>753.606747</td>\n",
       "      <td>8996.897087</td>\n",
       "      <td>569787.178127</td>\n",
       "      <td>114.877696</td>\n",
       "      <td>1602.926196</td>\n",
       "      <td>824.097249</td>\n",
       "      <td>156.652444</td>\n",
       "      <td>1255.240364</td>\n",
       "      <td>89249.780643</td>\n",
       "      <td>34.518223</td>\n",
       "      <td>304.345936</td>\n",
       "    </tr>\n",
       "    <tr>\n",
       "      <th>2</th>\n",
       "      <td>1998/1999</td>\n",
       "      <td>9.073413e+09</td>\n",
       "      <td>40996</td>\n",
       "      <td>310811</td>\n",
       "      <td>1798</td>\n",
       "      <td>675</td>\n",
       "      <td>151221</td>\n",
       "      <td>505501</td>\n",
       "      <td>1.458813e+09</td>\n",
       "      <td>2.657073e+09</td>\n",
       "      <td>181010121.0</td>\n",
       "      <td>4.531910e+09</td>\n",
       "      <td>244605860.0</td>\n",
       "      <td>9.073413e+09</td>\n",
       "      <td>-0.015771</td>\n",
       "      <td>-0.029194</td>\n",
       "      <td>-0.114785</td>\n",
       "      <td>-0.009256</td>\n",
       "      <td>0.320390</td>\n",
       "      <td>-0.011950</td>\n",
       "      <td>408643217.0</td>\n",
       "      <td>613826976.0</td>\n",
       "      <td>30791039.0</td>\n",
       "      <td>747881450.0</td>\n",
       "      <td>71865355.0</td>\n",
       "      <td>1.873008e+09</td>\n",
       "      <td>28.012031</td>\n",
       "      <td>23.101621</td>\n",
       "      <td>17.010673</td>\n",
       "      <td>16.502565</td>\n",
       "      <td>29.380063</td>\n",
       "      <td>20.642817</td>\n",
       "      <td>2965.356905</td>\n",
       "      <td>712.403252</td>\n",
       "      <td>8389.419772</td>\n",
       "      <td>559495.117778</td>\n",
       "      <td>134.794914</td>\n",
       "      <td>1495.778924</td>\n",
       "      <td>830.656684</td>\n",
       "      <td>164.576698</td>\n",
       "      <td>1427.096728</td>\n",
       "      <td>92331.043210</td>\n",
       "      <td>39.602830</td>\n",
       "      <td>308.770909</td>\n",
       "    </tr>\n",
       "    <tr>\n",
       "      <th>3</th>\n",
       "      <td>1999/2000</td>\n",
       "      <td>9.195923e+09</td>\n",
       "      <td>43238</td>\n",
       "      <td>318525</td>\n",
       "      <td>1749</td>\n",
       "      <td>682</td>\n",
       "      <td>158982</td>\n",
       "      <td>523176</td>\n",
       "      <td>1.470443e+09</td>\n",
       "      <td>2.688921e+09</td>\n",
       "      <td>182979615.0</td>\n",
       "      <td>4.573100e+09</td>\n",
       "      <td>280478980.0</td>\n",
       "      <td>9.195923e+09</td>\n",
       "      <td>0.007972</td>\n",
       "      <td>0.011986</td>\n",
       "      <td>0.010881</td>\n",
       "      <td>0.009089</td>\n",
       "      <td>0.146657</td>\n",
       "      <td>0.013502</td>\n",
       "      <td>436274970.0</td>\n",
       "      <td>655686067.0</td>\n",
       "      <td>32191903.0</td>\n",
       "      <td>798197146.0</td>\n",
       "      <td>84182759.0</td>\n",
       "      <td>2.006533e+09</td>\n",
       "      <td>29.669619</td>\n",
       "      <td>24.384729</td>\n",
       "      <td>17.593164</td>\n",
       "      <td>17.454181</td>\n",
       "      <td>30.013928</td>\n",
       "      <td>21.819810</td>\n",
       "      <td>2834.010702</td>\n",
       "      <td>703.482417</td>\n",
       "      <td>8718.296884</td>\n",
       "      <td>558785.419844</td>\n",
       "      <td>147.018205</td>\n",
       "      <td>1464.759273</td>\n",
       "      <td>840.840175</td>\n",
       "      <td>171.542283</td>\n",
       "      <td>1533.824233</td>\n",
       "      <td>97531.420577</td>\n",
       "      <td>44.125938</td>\n",
       "      <td>319.607685</td>\n",
       "    </tr>\n",
       "    <tr>\n",
       "      <th>4</th>\n",
       "      <td>2000/2001</td>\n",
       "      <td>9.407440e+09</td>\n",
       "      <td>40576</td>\n",
       "      <td>319763</td>\n",
       "      <td>1619</td>\n",
       "      <td>754</td>\n",
       "      <td>162839</td>\n",
       "      <td>525551</td>\n",
       "      <td>1.604265e+09</td>\n",
       "      <td>2.640769e+09</td>\n",
       "      <td>197188369.0</td>\n",
       "      <td>4.668287e+09</td>\n",
       "      <td>296930339.0</td>\n",
       "      <td>9.407440e+09</td>\n",
       "      <td>0.091008</td>\n",
       "      <td>-0.017907</td>\n",
       "      <td>0.077652</td>\n",
       "      <td>0.020815</td>\n",
       "      <td>0.058655</td>\n",
       "      <td>0.023001</td>\n",
       "      <td>445179115.0</td>\n",
       "      <td>722925897.0</td>\n",
       "      <td>35205659.0</td>\n",
       "      <td>847835582.0</td>\n",
       "      <td>96138266.0</td>\n",
       "      <td>2.147285e+09</td>\n",
       "      <td>27.749717</td>\n",
       "      <td>27.375579</td>\n",
       "      <td>17.853821</td>\n",
       "      <td>18.161600</td>\n",
       "      <td>32.377381</td>\n",
       "      <td>22.825386</td>\n",
       "      <td>3294.774929</td>\n",
       "      <td>688.210045</td>\n",
       "      <td>10149.699866</td>\n",
       "      <td>515946.811340</td>\n",
       "      <td>151.954967</td>\n",
       "      <td>1491.678925</td>\n",
       "      <td>914.290703</td>\n",
       "      <td>188.401487</td>\n",
       "      <td>1812.109275</td>\n",
       "      <td>93704.197834</td>\n",
       "      <td>49.199038</td>\n",
       "      <td>340.481469</td>\n",
       "    </tr>\n",
       "  </tbody>\n",
       "</table>\n",
       "</div>"
      ],
      "text/plain": [
       "        Year  Energy (kWh) sold  A: Number of business and general customers  \\\n",
       "0  1996/1997       8.941331e+09                                        34648   \n",
       "1  1997/1998       9.183151e+09                                        37816   \n",
       "2  1998/1999       9.073413e+09                                        40996   \n",
       "3  1999/2000       9.195923e+09                                        43238   \n",
       "4  2000/2001       9.407440e+09                                        40576   \n",
       "\n",
       "   A: Number of private residence customers  A: Number of 'other' customers  \\\n",
       "0                                    298514                            1996   \n",
       "1                                    302653                            1894   \n",
       "2                                    310811                            1798   \n",
       "3                                    318525                            1749   \n",
       "4                                    319763                            1619   \n",
       "\n",
       "   A: Number of bulk customers  A: Number of prepaid customers  \\\n",
       "0                          690                          115903   \n",
       "1                          669                          134384   \n",
       "2                          675                          151221   \n",
       "3                          682                          158982   \n",
       "4                          754                          162839   \n",
       "\n",
       "   A: Total number of customers  B: Business and general use  \\\n",
       "0                        451751                 1.428221e+09   \n",
       "1                        477416                 1.482190e+09   \n",
       "2                        505501                 1.458813e+09   \n",
       "3                        523176                 1.470443e+09   \n",
       "4                        525551                 1.604265e+09   \n",
       "\n",
       "   B: Private residential use  B: 'Other' use   B: Bulk use  B: Prepaid use  \\\n",
       "0                2.672470e+09     191879147.0  4.467819e+09     180942293.0   \n",
       "1                2.736976e+09     204481477.0  4.574251e+09     185252692.0   \n",
       "2                2.657073e+09     181010121.0  4.531910e+09     244605860.0   \n",
       "3                2.688921e+09     182979615.0  4.573100e+09     280478980.0   \n",
       "4                2.640769e+09     197188369.0  4.668287e+09     296930339.0   \n",
       "\n",
       "   B: Total use  C: Business & general use growth  \\\n",
       "0  8.941331e+09                          0.073174   \n",
       "1  9.183151e+09                          0.037787   \n",
       "2  9.073413e+09                         -0.015771   \n",
       "3  9.195923e+09                          0.007972   \n",
       "4  9.407440e+09                          0.091008   \n",
       "\n",
       "   C: Private residential use growth  C: 'Other' use growth  \\\n",
       "0                           0.056829               0.021361   \n",
       "1                           0.024137               0.065678   \n",
       "2                          -0.029194              -0.114785   \n",
       "3                           0.011986               0.010881   \n",
       "4                          -0.017907               0.077652   \n",
       "\n",
       "   C: Bulk use growth  C: Prepaid use growth  C: Unit growth  \\\n",
       "0            0.053443               0.382357        0.061976   \n",
       "1            0.023822               0.023822        0.027045   \n",
       "2           -0.009256               0.320390       -0.011950   \n",
       "3            0.009089               0.146657        0.013502   \n",
       "4            0.020815               0.058655        0.023001   \n",
       "\n",
       "   C: Total revenue: business & general   Total revenue: Private residences  \\\n",
       "0                            343457013.0                        510441750.0   \n",
       "1                            373968739.0                        568935987.0   \n",
       "2                            408643217.0                        613826976.0   \n",
       "3                            436274970.0                        655686067.0   \n",
       "4                            445179115.0                        722925897.0   \n",
       "\n",
       "   C: Total revenue: other  C: Total revenue: bulk  \\\n",
       "0               26281877.0             665704962.0   \n",
       "1               28529103.0             716497239.0   \n",
       "2               30791039.0             747881450.0   \n",
       "3               32191903.0             798197146.0   \n",
       "4               35205659.0             847835582.0   \n",
       "\n",
       "   C: Total revenue: prepayment  C: Total revenue: total  \\\n",
       "0                    42209335.0             1.588095e+09   \n",
       "1                    55664362.0             1.743595e+09   \n",
       "2                    71865355.0             1.873008e+09   \n",
       "3                    84182759.0             2.006533e+09   \n",
       "4                    96138266.0             2.147285e+09   \n",
       "\n",
       "   D: Cents per business and general  D: Cents per private residences  \\\n",
       "0                          24.047892                        19.100000   \n",
       "1                          25.230830                        20.787028   \n",
       "2                          28.012031                        23.101621   \n",
       "3                          29.669619                        24.384729   \n",
       "4                          27.749717                        27.375579   \n",
       "\n",
       "   D: Cents per 'other'  D: Cents per bulk  D: Cents per prepaid  \\\n",
       "0             13.697099          14.900000             23.327512   \n",
       "1             13.951925          15.663705             30.047802   \n",
       "2             17.010673          16.502565             29.380063   \n",
       "3             17.593164          17.454181             30.013928   \n",
       "4             17.853821          18.161600             32.377381   \n",
       "\n",
       "   D: Cents per total  E: E: Use per business and general customer   \\\n",
       "0           17.761282                                   3435.072840   \n",
       "1           18.986896                                   3266.231245   \n",
       "2           20.642817                                   2965.356905   \n",
       "3           21.819810                                   2834.010702   \n",
       "4           22.825386                                   3294.774929   \n",
       "\n",
       "   E: Use per 'other'  E: Use per private and general   E: Use per bulk  \\\n",
       "0          746.048174                      8010.986431    539591.610749   \n",
       "1          753.606747                      8996.897087    569787.178127   \n",
       "2          712.403252                      8389.419772    559495.117778   \n",
       "3          703.482417                      8718.296884    558785.419844   \n",
       "4          688.210045                     10149.699866    515946.811340   \n",
       "\n",
       "   E: Use per prepaid  E: Use per total  \\\n",
       "0          130.096067       1649.384048   \n",
       "1          114.877696       1602.926196   \n",
       "2          134.794914       1495.778924   \n",
       "3          147.018205       1464.759273   \n",
       "4          151.954967       1491.678925   \n",
       "\n",
       "   F: Rands per business and general customer   F: Rands per 'other'  \\\n",
       "0                                   826.062623            142.495201   \n",
       "1                                   824.097249            156.652444   \n",
       "2                                   830.656684            164.576698   \n",
       "3                                   840.840175            171.542283   \n",
       "4                                   914.290703            188.401487   \n",
       "\n",
       "   F: Rands per private and general   F: Rands per bulk  F: Rands per prepaid  \\\n",
       "0                        1097.272754       80399.150000             30.348175   \n",
       "1                        1255.240364       89249.780643             34.518223   \n",
       "2                        1427.096728       92331.043210             39.602830   \n",
       "3                        1533.824233       97531.420577             44.125938   \n",
       "4                        1812.109275       93704.197834             49.199038   \n",
       "\n",
       "   F: Rands per total  \n",
       "0          292.951747  \n",
       "1          304.345936  \n",
       "2          308.770909  \n",
       "3          319.607685  \n",
       "4          340.481469  "
      ]
     },
     "execution_count": 297,
     "metadata": {},
     "output_type": "execute_result"
    }
   ],
   "source": [
    "df = pd.merge(df1,df2, on = \"Year\", how = \"inner\")\n",
    "df.head()"
   ]
  },
  {
   "cell_type": "code",
   "execution_count": 301,
   "metadata": {},
   "outputs": [
    {
     "data": {
      "text/plain": [
       "Index(['Year', 'Energy (kWh) sold',\n",
       "       'A: Number of business and general customers',\n",
       "       'A: Number of private residence customers',\n",
       "       'A: Number of 'other' customers', 'A: Number of bulk customers',\n",
       "       'A: Number of prepaid customers', 'A: Total number of customers',\n",
       "       'B: Business and general use', 'B: Private residential use',\n",
       "       'B: 'Other' use', 'B: Bulk use', 'B: Prepaid use', 'B: Total use',\n",
       "       'C: Business & general use growth', 'C: Private residential use growth',\n",
       "       'C: 'Other' use growth', 'C: Bulk use growth', 'C: Prepaid use growth',\n",
       "       'C: Unit growth', 'C: Total revenue: business & general ',\n",
       "       'Total revenue: Private residences', 'C: Total revenue: other',\n",
       "       'C: Total revenue: bulk', 'C: Total revenue: prepayment',\n",
       "       'C: Total revenue: total', 'D: Cents per business and general',\n",
       "       'D: Cents per private residences', 'D: Cents per 'other'',\n",
       "       'D: Cents per bulk', 'D: Cents per prepaid', 'D: Cents per total',\n",
       "       'E: E: Use per business and general customer ', 'E: Use per 'other'',\n",
       "       'E: Use per private and general ', 'E: Use per bulk',\n",
       "       'E: Use per prepaid', 'E: Use per total',\n",
       "       'F: Rands per business and general customer ', 'F: Rands per 'other'',\n",
       "       'F: Rands per private and general ', 'F: Rands per bulk',\n",
       "       'F: Rands per prepaid', 'F: Rands per total'],\n",
       "      dtype='object')"
      ]
     },
     "execution_count": 301,
     "metadata": {},
     "output_type": "execute_result"
    }
   ],
   "source": [
    "power.columns"
   ]
  },
  {
   "cell_type": "code",
   "execution_count": 303,
   "metadata": {},
   "outputs": [
    {
     "data": {
      "text/html": [
       "<div>\n",
       "<style scoped>\n",
       "    .dataframe tbody tr th:only-of-type {\n",
       "        vertical-align: middle;\n",
       "    }\n",
       "\n",
       "    .dataframe tbody tr th {\n",
       "        vertical-align: top;\n",
       "    }\n",
       "\n",
       "    .dataframe thead th {\n",
       "        text-align: right;\n",
       "    }\n",
       "</style>\n",
       "<table border=\"1\" class=\"dataframe\">\n",
       "  <thead>\n",
       "    <tr style=\"text-align: right;\">\n",
       "      <th></th>\n",
       "      <th>A: Total number of customers</th>\n",
       "      <th>B: Total use</th>\n",
       "      <th>C: Total revenue: total</th>\n",
       "      <th>D: Cents per total</th>\n",
       "      <th>E: Use per total</th>\n",
       "      <th>F: Rands per total</th>\n",
       "      <th>Year</th>\n",
       "      <th>Energy (kWh) sold</th>\n",
       "    </tr>\n",
       "  </thead>\n",
       "  <tbody>\n",
       "    <tr>\n",
       "      <th>0</th>\n",
       "      <td>451751</td>\n",
       "      <td>8.941331e+09</td>\n",
       "      <td>1.588095e+09</td>\n",
       "      <td>17.761282</td>\n",
       "      <td>1649.384048</td>\n",
       "      <td>292.951747</td>\n",
       "      <td>1996/1997</td>\n",
       "      <td>8.941331e+09</td>\n",
       "    </tr>\n",
       "    <tr>\n",
       "      <th>1</th>\n",
       "      <td>477416</td>\n",
       "      <td>9.183151e+09</td>\n",
       "      <td>1.743595e+09</td>\n",
       "      <td>18.986896</td>\n",
       "      <td>1602.926196</td>\n",
       "      <td>304.345936</td>\n",
       "      <td>1997/1998</td>\n",
       "      <td>9.183151e+09</td>\n",
       "    </tr>\n",
       "    <tr>\n",
       "      <th>2</th>\n",
       "      <td>505501</td>\n",
       "      <td>9.073413e+09</td>\n",
       "      <td>1.873008e+09</td>\n",
       "      <td>20.642817</td>\n",
       "      <td>1495.778924</td>\n",
       "      <td>308.770909</td>\n",
       "      <td>1998/1999</td>\n",
       "      <td>9.073413e+09</td>\n",
       "    </tr>\n",
       "    <tr>\n",
       "      <th>3</th>\n",
       "      <td>523176</td>\n",
       "      <td>9.195923e+09</td>\n",
       "      <td>2.006533e+09</td>\n",
       "      <td>21.819810</td>\n",
       "      <td>1464.759273</td>\n",
       "      <td>319.607685</td>\n",
       "      <td>1999/2000</td>\n",
       "      <td>9.195923e+09</td>\n",
       "    </tr>\n",
       "    <tr>\n",
       "      <th>4</th>\n",
       "      <td>525551</td>\n",
       "      <td>9.407440e+09</td>\n",
       "      <td>2.147285e+09</td>\n",
       "      <td>22.825386</td>\n",
       "      <td>1491.678925</td>\n",
       "      <td>340.481469</td>\n",
       "      <td>2000/2001</td>\n",
       "      <td>9.407440e+09</td>\n",
       "    </tr>\n",
       "  </tbody>\n",
       "</table>\n",
       "</div>"
      ],
      "text/plain": [
       "   A: Total number of customers  B: Total use  C: Total revenue: total  \\\n",
       "0                        451751  8.941331e+09             1.588095e+09   \n",
       "1                        477416  9.183151e+09             1.743595e+09   \n",
       "2                        505501  9.073413e+09             1.873008e+09   \n",
       "3                        523176  9.195923e+09             2.006533e+09   \n",
       "4                        525551  9.407440e+09             2.147285e+09   \n",
       "\n",
       "   D: Cents per total  E: Use per total  F: Rands per total       Year  \\\n",
       "0           17.761282       1649.384048          292.951747  1996/1997   \n",
       "1           18.986896       1602.926196          304.345936  1997/1998   \n",
       "2           20.642817       1495.778924          308.770909  1998/1999   \n",
       "3           21.819810       1464.759273          319.607685  1999/2000   \n",
       "4           22.825386       1491.678925          340.481469  2000/2001   \n",
       "\n",
       "   Energy (kWh) sold  \n",
       "0       8.941331e+09  \n",
       "1       9.183151e+09  \n",
       "2       9.073413e+09  \n",
       "3       9.195923e+09  \n",
       "4       9.407440e+09  "
      ]
     },
     "execution_count": 303,
     "metadata": {},
     "output_type": "execute_result"
    }
   ],
   "source": [
    "power = power[['A: Total number of customers', 'B: Total use','C: Total revenue: total','D: Cents per total',\n",
    "               'E: Use per total','F: Rands per total','Year', 'Energy (kWh) sold']]\n",
    "power.head()"
   ]
  },
  {
   "cell_type": "code",
   "execution_count": 304,
   "metadata": {},
   "outputs": [],
   "source": [
    "columns_rearranged = ['Year', 'A: Total number of customers','C: Total revenue: total','D: Cents per total',\n",
    "               'E: Use per total','F: Rands per total', 'Energy (kWh) sold']"
   ]
  },
  {
   "cell_type": "code",
   "execution_count": 412,
   "metadata": {},
   "outputs": [],
   "source": [
    "# arraging the datasets"
   ]
  },
  {
   "cell_type": "code",
   "execution_count": 305,
   "metadata": {},
   "outputs": [
    {
     "data": {
      "text/html": [
       "<div>\n",
       "<style scoped>\n",
       "    .dataframe tbody tr th:only-of-type {\n",
       "        vertical-align: middle;\n",
       "    }\n",
       "\n",
       "    .dataframe tbody tr th {\n",
       "        vertical-align: top;\n",
       "    }\n",
       "\n",
       "    .dataframe thead th {\n",
       "        text-align: right;\n",
       "    }\n",
       "</style>\n",
       "<table border=\"1\" class=\"dataframe\">\n",
       "  <thead>\n",
       "    <tr style=\"text-align: right;\">\n",
       "      <th></th>\n",
       "      <th>Year</th>\n",
       "      <th>A: Total number of customers</th>\n",
       "      <th>C: Total revenue: total</th>\n",
       "      <th>D: Cents per total</th>\n",
       "      <th>E: Use per total</th>\n",
       "      <th>F: Rands per total</th>\n",
       "      <th>Energy (kWh) sold</th>\n",
       "    </tr>\n",
       "  </thead>\n",
       "  <tbody>\n",
       "    <tr>\n",
       "      <th>0</th>\n",
       "      <td>1996/1997</td>\n",
       "      <td>451751</td>\n",
       "      <td>1.588095e+09</td>\n",
       "      <td>17.761282</td>\n",
       "      <td>1649.384048</td>\n",
       "      <td>292.951747</td>\n",
       "      <td>8.941331e+09</td>\n",
       "    </tr>\n",
       "    <tr>\n",
       "      <th>1</th>\n",
       "      <td>1997/1998</td>\n",
       "      <td>477416</td>\n",
       "      <td>1.743595e+09</td>\n",
       "      <td>18.986896</td>\n",
       "      <td>1602.926196</td>\n",
       "      <td>304.345936</td>\n",
       "      <td>9.183151e+09</td>\n",
       "    </tr>\n",
       "    <tr>\n",
       "      <th>2</th>\n",
       "      <td>1998/1999</td>\n",
       "      <td>505501</td>\n",
       "      <td>1.873008e+09</td>\n",
       "      <td>20.642817</td>\n",
       "      <td>1495.778924</td>\n",
       "      <td>308.770909</td>\n",
       "      <td>9.073413e+09</td>\n",
       "    </tr>\n",
       "    <tr>\n",
       "      <th>3</th>\n",
       "      <td>1999/2000</td>\n",
       "      <td>523176</td>\n",
       "      <td>2.006533e+09</td>\n",
       "      <td>21.819810</td>\n",
       "      <td>1464.759273</td>\n",
       "      <td>319.607685</td>\n",
       "      <td>9.195923e+09</td>\n",
       "    </tr>\n",
       "    <tr>\n",
       "      <th>4</th>\n",
       "      <td>2000/2001</td>\n",
       "      <td>525551</td>\n",
       "      <td>2.147285e+09</td>\n",
       "      <td>22.825386</td>\n",
       "      <td>1491.678925</td>\n",
       "      <td>340.481469</td>\n",
       "      <td>9.407440e+09</td>\n",
       "    </tr>\n",
       "  </tbody>\n",
       "</table>\n",
       "</div>"
      ],
      "text/plain": [
       "        Year  A: Total number of customers  C: Total revenue: total  \\\n",
       "0  1996/1997                        451751             1.588095e+09   \n",
       "1  1997/1998                        477416             1.743595e+09   \n",
       "2  1998/1999                        505501             1.873008e+09   \n",
       "3  1999/2000                        523176             2.006533e+09   \n",
       "4  2000/2001                        525551             2.147285e+09   \n",
       "\n",
       "   D: Cents per total  E: Use per total  F: Rands per total  Energy (kWh) sold  \n",
       "0           17.761282       1649.384048          292.951747       8.941331e+09  \n",
       "1           18.986896       1602.926196          304.345936       9.183151e+09  \n",
       "2           20.642817       1495.778924          308.770909       9.073413e+09  \n",
       "3           21.819810       1464.759273          319.607685       9.195923e+09  \n",
       "4           22.825386       1491.678925          340.481469       9.407440e+09  "
      ]
     },
     "execution_count": 305,
     "metadata": {},
     "output_type": "execute_result"
    }
   ],
   "source": [
    "power = power.reindex(columns=columns_rearranged)\n",
    "power.head()"
   ]
  },
  {
   "cell_type": "code",
   "execution_count": 306,
   "metadata": {},
   "outputs": [
    {
     "name": "stdout",
     "output_type": "stream",
     "text": [
      "<class 'pandas.core.frame.DataFrame'>\n",
      "Int64Index: 23 entries, 0 to 22\n",
      "Data columns (total 7 columns):\n",
      " #   Column                        Non-Null Count  Dtype  \n",
      "---  ------                        --------------  -----  \n",
      " 0   Year                          23 non-null     object \n",
      " 1   A: Total number of customers  23 non-null     int64  \n",
      " 2   C: Total revenue: total       23 non-null     float64\n",
      " 3   D: Cents per total            23 non-null     float64\n",
      " 4   E: Use per total              23 non-null     float64\n",
      " 5   F: Rands per total            23 non-null     float64\n",
      " 6   Energy (kWh) sold             23 non-null     float64\n",
      "dtypes: float64(5), int64(1), object(1)\n",
      "memory usage: 1.4+ KB\n"
     ]
    }
   ],
   "source": [
    "#We understand the nature of our dataset and the type of attributes\n",
    "power.info()"
   ]
  },
  {
   "cell_type": "code",
   "execution_count": 307,
   "metadata": {},
   "outputs": [
    {
     "data": {
      "text/html": [
       "<div>\n",
       "<style scoped>\n",
       "    .dataframe tbody tr th:only-of-type {\n",
       "        vertical-align: middle;\n",
       "    }\n",
       "\n",
       "    .dataframe tbody tr th {\n",
       "        vertical-align: top;\n",
       "    }\n",
       "\n",
       "    .dataframe thead th {\n",
       "        text-align: right;\n",
       "    }\n",
       "</style>\n",
       "<table border=\"1\" class=\"dataframe\">\n",
       "  <thead>\n",
       "    <tr style=\"text-align: right;\">\n",
       "      <th></th>\n",
       "      <th>Year</th>\n",
       "      <th>A: Total number of customers</th>\n",
       "      <th>C: Total revenue: total</th>\n",
       "      <th>D: Cents per total</th>\n",
       "      <th>E: Use per total</th>\n",
       "      <th>F: Rands per total</th>\n",
       "      <th>Energy (kWh) sold</th>\n",
       "    </tr>\n",
       "  </thead>\n",
       "  <tbody>\n",
       "    <tr>\n",
       "      <th>0</th>\n",
       "      <td>1996/1997</td>\n",
       "      <td>451751</td>\n",
       "      <td>1.588095e+09</td>\n",
       "      <td>17.761282</td>\n",
       "      <td>1649.384048</td>\n",
       "      <td>292.951747</td>\n",
       "      <td>8.941331e+09</td>\n",
       "    </tr>\n",
       "    <tr>\n",
       "      <th>1</th>\n",
       "      <td>1997/1998</td>\n",
       "      <td>477416</td>\n",
       "      <td>1.743595e+09</td>\n",
       "      <td>18.986896</td>\n",
       "      <td>1602.926196</td>\n",
       "      <td>304.345936</td>\n",
       "      <td>9.183151e+09</td>\n",
       "    </tr>\n",
       "    <tr>\n",
       "      <th>2</th>\n",
       "      <td>1998/1999</td>\n",
       "      <td>505501</td>\n",
       "      <td>1.873008e+09</td>\n",
       "      <td>20.642817</td>\n",
       "      <td>1495.778924</td>\n",
       "      <td>308.770909</td>\n",
       "      <td>9.073413e+09</td>\n",
       "    </tr>\n",
       "    <tr>\n",
       "      <th>3</th>\n",
       "      <td>1999/2000</td>\n",
       "      <td>523176</td>\n",
       "      <td>2.006533e+09</td>\n",
       "      <td>21.819810</td>\n",
       "      <td>1464.759273</td>\n",
       "      <td>319.607685</td>\n",
       "      <td>9.195923e+09</td>\n",
       "    </tr>\n",
       "    <tr>\n",
       "      <th>4</th>\n",
       "      <td>2000/2001</td>\n",
       "      <td>525551</td>\n",
       "      <td>2.147285e+09</td>\n",
       "      <td>22.825386</td>\n",
       "      <td>1491.678925</td>\n",
       "      <td>340.481469</td>\n",
       "      <td>9.407440e+09</td>\n",
       "    </tr>\n",
       "  </tbody>\n",
       "</table>\n",
       "</div>"
      ],
      "text/plain": [
       "        Year  A: Total number of customers  C: Total revenue: total  \\\n",
       "0  1996/1997                        451751             1.588095e+09   \n",
       "1  1997/1998                        477416             1.743595e+09   \n",
       "2  1998/1999                        505501             1.873008e+09   \n",
       "3  1999/2000                        523176             2.006533e+09   \n",
       "4  2000/2001                        525551             2.147285e+09   \n",
       "\n",
       "   D: Cents per total  E: Use per total  F: Rands per total  Energy (kWh) sold  \n",
       "0           17.761282       1649.384048          292.951747       8.941331e+09  \n",
       "1           18.986896       1602.926196          304.345936       9.183151e+09  \n",
       "2           20.642817       1495.778924          308.770909       9.073413e+09  \n",
       "3           21.819810       1464.759273          319.607685       9.195923e+09  \n",
       "4           22.825386       1491.678925          340.481469       9.407440e+09  "
      ]
     },
     "execution_count": 307,
     "metadata": {},
     "output_type": "execute_result"
    }
   ],
   "source": [
    "power.head()"
   ]
  },
  {
   "cell_type": "code",
   "execution_count": 308,
   "metadata": {},
   "outputs": [],
   "source": [
    "#Data visualization libraries\n",
    "import seaborn as sns\n",
    "\n",
    "import matplotlib.pyplot as plt\n",
    "%matplotlib inline"
   ]
  },
  {
   "cell_type": "code",
   "execution_count": 309,
   "metadata": {},
   "outputs": [
    {
     "data": {
      "text/plain": [
       "0"
      ]
     },
     "execution_count": 309,
     "metadata": {},
     "output_type": "execute_result"
    }
   ],
   "source": [
    "#Check the Null values for the entire DataFrame\n",
    "power.isnull().sum().sum()"
   ]
  },
  {
   "cell_type": "code",
   "execution_count": 310,
   "metadata": {},
   "outputs": [
    {
     "data": {
      "text/html": [
       "<div>\n",
       "<style scoped>\n",
       "    .dataframe tbody tr th:only-of-type {\n",
       "        vertical-align: middle;\n",
       "    }\n",
       "\n",
       "    .dataframe tbody tr th {\n",
       "        vertical-align: top;\n",
       "    }\n",
       "\n",
       "    .dataframe thead th {\n",
       "        text-align: right;\n",
       "    }\n",
       "</style>\n",
       "<table border=\"1\" class=\"dataframe\">\n",
       "  <thead>\n",
       "    <tr style=\"text-align: right;\">\n",
       "      <th></th>\n",
       "      <th>Year</th>\n",
       "      <th>A: Total number of customers</th>\n",
       "      <th>C: Total revenue: total</th>\n",
       "      <th>D: Cents per total</th>\n",
       "      <th>E: Use per total</th>\n",
       "      <th>F: Rands per total</th>\n",
       "      <th>Energy (kWh) sold</th>\n",
       "    </tr>\n",
       "  </thead>\n",
       "  <tbody>\n",
       "    <tr>\n",
       "      <th>0</th>\n",
       "      <td>1996/1997</td>\n",
       "      <td>451751</td>\n",
       "      <td>1.588095e+09</td>\n",
       "      <td>17.761282</td>\n",
       "      <td>1649.384048</td>\n",
       "      <td>292.951747</td>\n",
       "      <td>8.941331e+09</td>\n",
       "    </tr>\n",
       "    <tr>\n",
       "      <th>1</th>\n",
       "      <td>1997/1998</td>\n",
       "      <td>477416</td>\n",
       "      <td>1.743595e+09</td>\n",
       "      <td>18.986896</td>\n",
       "      <td>1602.926196</td>\n",
       "      <td>304.345936</td>\n",
       "      <td>9.183151e+09</td>\n",
       "    </tr>\n",
       "    <tr>\n",
       "      <th>2</th>\n",
       "      <td>1998/1999</td>\n",
       "      <td>505501</td>\n",
       "      <td>1.873008e+09</td>\n",
       "      <td>20.642817</td>\n",
       "      <td>1495.778924</td>\n",
       "      <td>308.770909</td>\n",
       "      <td>9.073413e+09</td>\n",
       "    </tr>\n",
       "    <tr>\n",
       "      <th>3</th>\n",
       "      <td>1999/2000</td>\n",
       "      <td>523176</td>\n",
       "      <td>2.006533e+09</td>\n",
       "      <td>21.819810</td>\n",
       "      <td>1464.759273</td>\n",
       "      <td>319.607685</td>\n",
       "      <td>9.195923e+09</td>\n",
       "    </tr>\n",
       "    <tr>\n",
       "      <th>4</th>\n",
       "      <td>2000/2001</td>\n",
       "      <td>525551</td>\n",
       "      <td>2.147285e+09</td>\n",
       "      <td>22.825386</td>\n",
       "      <td>1491.678925</td>\n",
       "      <td>340.481469</td>\n",
       "      <td>9.407440e+09</td>\n",
       "    </tr>\n",
       "  </tbody>\n",
       "</table>\n",
       "</div>"
      ],
      "text/plain": [
       "        Year  A: Total number of customers  C: Total revenue: total  \\\n",
       "0  1996/1997                        451751             1.588095e+09   \n",
       "1  1997/1998                        477416             1.743595e+09   \n",
       "2  1998/1999                        505501             1.873008e+09   \n",
       "3  1999/2000                        523176             2.006533e+09   \n",
       "4  2000/2001                        525551             2.147285e+09   \n",
       "\n",
       "   D: Cents per total  E: Use per total  F: Rands per total  Energy (kWh) sold  \n",
       "0           17.761282       1649.384048          292.951747       8.941331e+09  \n",
       "1           18.986896       1602.926196          304.345936       9.183151e+09  \n",
       "2           20.642817       1495.778924          308.770909       9.073413e+09  \n",
       "3           21.819810       1464.759273          319.607685       9.195923e+09  \n",
       "4           22.825386       1491.678925          340.481469       9.407440e+09  "
      ]
     },
     "execution_count": 310,
     "metadata": {},
     "output_type": "execute_result"
    }
   ],
   "source": [
    "power.head()"
   ]
  },
  {
   "cell_type": "code",
   "execution_count": 311,
   "metadata": {},
   "outputs": [
    {
     "data": {
      "text/plain": [
       "[]"
      ]
     },
     "execution_count": 311,
     "metadata": {},
     "output_type": "execute_result"
    }
   ],
   "source": [
    "power.columns[power.isna().any()].tolist()"
   ]
  },
  {
   "cell_type": "code",
   "execution_count": 312,
   "metadata": {},
   "outputs": [
    {
     "data": {
      "text/html": [
       "<div>\n",
       "<style scoped>\n",
       "    .dataframe tbody tr th:only-of-type {\n",
       "        vertical-align: middle;\n",
       "    }\n",
       "\n",
       "    .dataframe tbody tr th {\n",
       "        vertical-align: top;\n",
       "    }\n",
       "\n",
       "    .dataframe thead th {\n",
       "        text-align: right;\n",
       "    }\n",
       "</style>\n",
       "<table border=\"1\" class=\"dataframe\">\n",
       "  <thead>\n",
       "    <tr style=\"text-align: right;\">\n",
       "      <th></th>\n",
       "      <th>Year</th>\n",
       "      <th>A: Total number of customers</th>\n",
       "      <th>C: Total revenue: total</th>\n",
       "      <th>D: Cents per total</th>\n",
       "      <th>E: Use per total</th>\n",
       "      <th>F: Rands per total</th>\n",
       "      <th>Energy (kWh) sold</th>\n",
       "    </tr>\n",
       "  </thead>\n",
       "  <tbody>\n",
       "    <tr>\n",
       "      <th>0</th>\n",
       "      <td>1996/1997</td>\n",
       "      <td>451751</td>\n",
       "      <td>1.588095e+09</td>\n",
       "      <td>17.761282</td>\n",
       "      <td>1649.384048</td>\n",
       "      <td>292.951747</td>\n",
       "      <td>8.941331e+09</td>\n",
       "    </tr>\n",
       "    <tr>\n",
       "      <th>1</th>\n",
       "      <td>1997/1998</td>\n",
       "      <td>477416</td>\n",
       "      <td>1.743595e+09</td>\n",
       "      <td>18.986896</td>\n",
       "      <td>1602.926196</td>\n",
       "      <td>304.345936</td>\n",
       "      <td>9.183151e+09</td>\n",
       "    </tr>\n",
       "    <tr>\n",
       "      <th>2</th>\n",
       "      <td>1998/1999</td>\n",
       "      <td>505501</td>\n",
       "      <td>1.873008e+09</td>\n",
       "      <td>20.642817</td>\n",
       "      <td>1495.778924</td>\n",
       "      <td>308.770909</td>\n",
       "      <td>9.073413e+09</td>\n",
       "    </tr>\n",
       "    <tr>\n",
       "      <th>3</th>\n",
       "      <td>1999/2000</td>\n",
       "      <td>523176</td>\n",
       "      <td>2.006533e+09</td>\n",
       "      <td>21.819810</td>\n",
       "      <td>1464.759273</td>\n",
       "      <td>319.607685</td>\n",
       "      <td>9.195923e+09</td>\n",
       "    </tr>\n",
       "    <tr>\n",
       "      <th>4</th>\n",
       "      <td>2000/2001</td>\n",
       "      <td>525551</td>\n",
       "      <td>2.147285e+09</td>\n",
       "      <td>22.825386</td>\n",
       "      <td>1491.678925</td>\n",
       "      <td>340.481469</td>\n",
       "      <td>9.407440e+09</td>\n",
       "    </tr>\n",
       "  </tbody>\n",
       "</table>\n",
       "</div>"
      ],
      "text/plain": [
       "        Year  A: Total number of customers  C: Total revenue: total  \\\n",
       "0  1996/1997                        451751             1.588095e+09   \n",
       "1  1997/1998                        477416             1.743595e+09   \n",
       "2  1998/1999                        505501             1.873008e+09   \n",
       "3  1999/2000                        523176             2.006533e+09   \n",
       "4  2000/2001                        525551             2.147285e+09   \n",
       "\n",
       "   D: Cents per total  E: Use per total  F: Rands per total  Energy (kWh) sold  \n",
       "0           17.761282       1649.384048          292.951747       8.941331e+09  \n",
       "1           18.986896       1602.926196          304.345936       9.183151e+09  \n",
       "2           20.642817       1495.778924          308.770909       9.073413e+09  \n",
       "3           21.819810       1464.759273          319.607685       9.195923e+09  \n",
       "4           22.825386       1491.678925          340.481469       9.407440e+09  "
      ]
     },
     "execution_count": 312,
     "metadata": {},
     "output_type": "execute_result"
    }
   ],
   "source": [
    "power.head()"
   ]
  },
  {
   "cell_type": "code",
   "execution_count": 313,
   "metadata": {},
   "outputs": [],
   "source": [
    "#Drop any column with NaN values\n",
    "power = power.dropna(axis=1, how='all')"
   ]
  },
  {
   "cell_type": "markdown",
   "metadata": {},
   "source": [
    "### EXPLORATORY DATA ANALYSIS"
   ]
  },
  {
   "cell_type": "code",
   "execution_count": 392,
   "metadata": {},
   "outputs": [
    {
     "data": {
      "text/plain": [
       "array([[<matplotlib.axes._subplots.AxesSubplot object at 0x00000258F345B9C8>,\n",
       "        <matplotlib.axes._subplots.AxesSubplot object at 0x00000258F34E0C08>],\n",
       "       [<matplotlib.axes._subplots.AxesSubplot object at 0x00000258F34F6708>,\n",
       "        <matplotlib.axes._subplots.AxesSubplot object at 0x00000258F345B188>],\n",
       "       [<matplotlib.axes._subplots.AxesSubplot object at 0x00000258F3547CC8>,\n",
       "        <matplotlib.axes._subplots.AxesSubplot object at 0x00000258F3580688>]],\n",
       "      dtype=object)"
      ]
     },
     "execution_count": 392,
     "metadata": {},
     "output_type": "execute_result"
    },
    {
     "data": {
      "image/png": "[encoded data removed]",
      "text/plain": [
       "<Figure size 1080x576 with 6 Axes>"
      ]
     },
     "metadata": {
      "needs_background": "light"
     },
     "output_type": "display_data"
    }
   ],
   "source": [
    "#We plot the histogram to check the distribution of the datasets in each attributes\n",
    "power.hist(column=columns_rearranged, rwidth=0.95, figsize=(15,8))"
   ]
  },
  {
   "cell_type": "code",
   "execution_count": 389,
   "metadata": {},
   "outputs": [
    {
     "data": {
      "text/plain": [
       "<matplotlib.axes._subplots.AxesSubplot at 0x258f3a11148>"
      ]
     },
     "execution_count": 389,
     "metadata": {},
     "output_type": "execute_result"
    },
    {
     "data": {
      "image/png": "[encoded data removed]",
      "text/plain": [
       "<Figure size 1152x576 with 1 Axes>"
      ]
     },
     "metadata": {
      "needs_background": "light"
     },
     "output_type": "display_data"
    }
   ],
   "source": [
    "#We do the count plot of the Energy (kWh) sold in different years range to check if it correspond with the dataset.\n",
    "from matplotlib.pyplot import figure\n",
    "figure(figsize=(16,8))\n",
    "sns.countplot(data=power, x='Year', hue='Energy (kWh) sold')"
   ]
  },
  {
   "cell_type": "code",
   "execution_count": 400,
   "metadata": {},
   "outputs": [
    {
     "data": {
      "text/plain": [
       "Text(0.5, 1.0, 'Cents Per Total')"
      ]
     },
     "execution_count": 400,
     "metadata": {},
     "output_type": "execute_result"
    },
    {
     "data": {
      "image/png": "[encoded data removed]",
      "text/plain": [
       "<Figure size 432x288 with 1 Axes>"
      ]
     },
     "metadata": {
      "needs_background": "light"
     },
     "output_type": "display_data"
    }
   ],
   "source": [
    "# Plotting the Histogram barplot to compare the frequency distribution of D: Cents per total variable.\n",
    "# We also create a range to compare and analyse different distribution.\n",
    "\n",
    "bins=[40,50,60,70,80,90,100,110,120,130,140,150,160,170,180,190,200]\n",
    "\n",
    "plt.hist(power['D: Cents per total'], rwidth=0.75, bins=bins, color='g')\n",
    "plt.xlabel('Cents range')\n",
    "plt.ylabel('Total no of cents')\n",
    "plt.title('Cents Per Total')"
   ]
  },
  {
   "cell_type": "markdown",
   "metadata": {},
   "source": [
    "#### Feature-Feature Relationships\n",
    "+ We explore the relationship between the attributes."
   ]
  },
  {
   "cell_type": "code",
   "execution_count": 314,
   "metadata": {},
   "outputs": [
    {
     "data": {
      "text/plain": [
       "<seaborn.axisgrid.PairGrid at 0x258ed858088>"
      ]
     },
     "execution_count": 314,
     "metadata": {},
     "output_type": "execute_result"
    },
    {
     "data": {
      "image/png": "[encoded data removed]",
      "text/plain": [
       "<Figure size 1080x1080 with 42 Axes>"
      ]
     },
     "metadata": {
      "needs_background": "light"
     },
     "output_type": "display_data"
    }
   ],
   "source": [
    "# The scatter charts between the pair of variables to understand the relationship.\n",
    "sns.pairplot(power)"
   ]
  },
  {
   "cell_type": "code",
   "execution_count": 316,
   "metadata": {},
   "outputs": [
    {
     "data": {
      "text/plain": [
       "array([[<matplotlib.axes._subplots.AxesSubplot object at 0x00000258EE067FC8>,\n",
       "        <matplotlib.axes._subplots.AxesSubplot object at 0x00000258EDEE81C8>,\n",
       "        <matplotlib.axes._subplots.AxesSubplot object at 0x00000258EE47BF48>,\n",
       "        <matplotlib.axes._subplots.AxesSubplot object at 0x00000258EE595608>,\n",
       "        <matplotlib.axes._subplots.AxesSubplot object at 0x00000258EEA3CF48>,\n",
       "        <matplotlib.axes._subplots.AxesSubplot object at 0x00000258EE8CDCC8>],\n",
       "       [<matplotlib.axes._subplots.AxesSubplot object at 0x00000258EE66F188>,\n",
       "        <matplotlib.axes._subplots.AxesSubplot object at 0x00000258ED4BFA88>,\n",
       "        <matplotlib.axes._subplots.AxesSubplot object at 0x00000258ED4BF408>,\n",
       "        <matplotlib.axes._subplots.AxesSubplot object at 0x00000258EE60F4C8>,\n",
       "        <matplotlib.axes._subplots.AxesSubplot object at 0x00000258ED5A1BC8>,\n",
       "        <matplotlib.axes._subplots.AxesSubplot object at 0x00000258EE73BA08>],\n",
       "       [<matplotlib.axes._subplots.AxesSubplot object at 0x00000258EE395708>,\n",
       "        <matplotlib.axes._subplots.AxesSubplot object at 0x00000258EE12D648>,\n",
       "        <matplotlib.axes._subplots.AxesSubplot object at 0x00000258EDE54288>,\n",
       "        <matplotlib.axes._subplots.AxesSubplot object at 0x00000258EDFC5C08>,\n",
       "        <matplotlib.axes._subplots.AxesSubplot object at 0x00000258EDE6BFC8>,\n",
       "        <matplotlib.axes._subplots.AxesSubplot object at 0x00000258EF22EF08>],\n",
       "       [<matplotlib.axes._subplots.AxesSubplot object at 0x00000258EDF09548>,\n",
       "        <matplotlib.axes._subplots.AxesSubplot object at 0x00000258EE3473C8>,\n",
       "        <matplotlib.axes._subplots.AxesSubplot object at 0x00000258EE38B1C8>,\n",
       "        <matplotlib.axes._subplots.AxesSubplot object at 0x00000258EE379F48>,\n",
       "        <matplotlib.axes._subplots.AxesSubplot object at 0x00000258EDE00EC8>,\n",
       "        <matplotlib.axes._subplots.AxesSubplot object at 0x00000258EDF42D88>],\n",
       "       [<matplotlib.axes._subplots.AxesSubplot object at 0x00000258EE021C08>,\n",
       "        <matplotlib.axes._subplots.AxesSubplot object at 0x00000258EE0BDA08>,\n",
       "        <matplotlib.axes._subplots.AxesSubplot object at 0x00000258EE1558C8>,\n",
       "        <matplotlib.axes._subplots.AxesSubplot object at 0x00000258EE19D748>,\n",
       "        <matplotlib.axes._subplots.AxesSubplot object at 0x00000258EE212608>,\n",
       "        <matplotlib.axes._subplots.AxesSubplot object at 0x00000258EE07C4C8>],\n",
       "       [<matplotlib.axes._subplots.AxesSubplot object at 0x00000258EDE2ACC8>,\n",
       "        <matplotlib.axes._subplots.AxesSubplot object at 0x00000258EDF9B6C8>,\n",
       "        <matplotlib.axes._subplots.AxesSubplot object at 0x00000258EDFEC808>,\n",
       "        <matplotlib.axes._subplots.AxesSubplot object at 0x00000258EE105588>,\n",
       "        <matplotlib.axes._subplots.AxesSubplot object at 0x00000258EE2CA308>,\n",
       "        <matplotlib.axes._subplots.AxesSubplot object at 0x00000258EF2DF748>]],\n",
       "      dtype=object)"
      ]
     },
     "execution_count": 316,
     "metadata": {},
     "output_type": "execute_result"
    },
    {
     "data": {
      "image/png": "[encoded data removed]",
      "text/plain": [
       "<Figure size 1152x720 with 36 Axes>"
      ]
     },
     "metadata": {
      "needs_background": "light"
     },
     "output_type": "display_data"
    }
   ],
   "source": [
    "from pandas.plotting import scatter_matrix\n",
    "scatter_matrix(power, alpha=0.2, figsize=(16, 10), diagonal='kde')"
   ]
  },
  {
   "cell_type": "markdown",
   "metadata": {},
   "source": [
    "## Correlation Analysis and Feature Selection"
   ]
  },
  {
   "cell_type": "code",
   "execution_count": null,
   "metadata": {},
   "outputs": [],
   "source": [
    "power=power.astype('int64', )"
   ]
  },
  {
   "cell_type": "code",
   "execution_count": 324,
   "metadata": {},
   "outputs": [
    {
     "data": {
      "text/plain": [
       "Index(['Year', 'A: Total number of customers', 'C: Total revenue: total',\n",
       "       'D: Cents per total', 'E: Use per total', 'F: Rands per total',\n",
       "       'Energy (kWh) sold'],\n",
       "      dtype='object')"
      ]
     },
     "execution_count": 324,
     "metadata": {},
     "output_type": "execute_result"
    }
   ],
   "source": [
    "power.columns"
   ]
  },
  {
   "cell_type": "code",
   "execution_count": 326,
   "metadata": {},
   "outputs": [],
   "source": [
    "power['C: Total revenue: total'] = power ['C: Total revenue: total'].astype('int64')"
   ]
  },
  {
   "cell_type": "code",
   "execution_count": 328,
   "metadata": {},
   "outputs": [],
   "source": [
    "power['D: Cents per total'] = power ['D: Cents per total'].astype('int64')"
   ]
  },
  {
   "cell_type": "code",
   "execution_count": 329,
   "metadata": {},
   "outputs": [],
   "source": [
    "power['E: Use per total'] = power ['E: Use per total'].astype('int64')"
   ]
  },
  {
   "cell_type": "code",
   "execution_count": 330,
   "metadata": {},
   "outputs": [],
   "source": [
    "power['F: Rands per total'] = power ['F: Rands per total'].astype('int64')"
   ]
  },
  {
   "cell_type": "code",
   "execution_count": 331,
   "metadata": {},
   "outputs": [],
   "source": [
    "power['Energy (kWh) sold'] = power ['Energy (kWh) sold'].astype('int64')"
   ]
  },
  {
   "cell_type": "code",
   "execution_count": 332,
   "metadata": {},
   "outputs": [
    {
     "name": "stdout",
     "output_type": "stream",
     "text": [
      "<class 'pandas.core.frame.DataFrame'>\n",
      "Int64Index: 23 entries, 0 to 22\n",
      "Data columns (total 7 columns):\n",
      " #   Column                        Non-Null Count  Dtype \n",
      "---  ------                        --------------  ----- \n",
      " 0   Year                          23 non-null     object\n",
      " 1   A: Total number of customers  23 non-null     int64 \n",
      " 2   C: Total revenue: total       23 non-null     int64 \n",
      " 3   D: Cents per total            23 non-null     int64 \n",
      " 4   E: Use per total              23 non-null     int64 \n",
      " 5   F: Rands per total            23 non-null     int64 \n",
      " 6   Energy (kWh) sold             23 non-null     int64 \n",
      "dtypes: int64(6), object(1)\n",
      "memory usage: 2.1+ KB\n"
     ]
    }
   ],
   "source": [
    "power.info()"
   ]
  },
  {
   "cell_type": "code",
   "execution_count": 333,
   "metadata": {},
   "outputs": [],
   "source": [
    "#Important libraries\n",
    "from sklearn.feature_selection import SelectKBest\n",
    "from sklearn.feature_selection import chi2\n",
    "X = power.iloc[:,1:6]\n",
    "y = power.iloc[:,-1]"
   ]
  },
  {
   "cell_type": "code",
   "execution_count": 334,
   "metadata": {},
   "outputs": [],
   "source": [
    "#Apply SeleckKBest class to extarct top 6 best features\n",
    "bestfeatures = SelectKBest(score_func=chi2, k=5)\n",
    "fit = bestfeatures.fit(X,y)"
   ]
  },
  {
   "cell_type": "code",
   "execution_count": 335,
   "metadata": {},
   "outputs": [],
   "source": [
    "dfscores = pd.DataFrame(fit.scores_)\n",
    "dfcolumns = pd.DataFrame(X.columns)"
   ]
  },
  {
   "cell_type": "code",
   "execution_count": 336,
   "metadata": {},
   "outputs": [],
   "source": [
    "#Concat two DataFrames for better visualization\n",
    "featureScores = pd.concat([dfcolumns, dfscores], axis=1)\n",
    "featureScores.columns = ['col','Score']"
   ]
  },
  {
   "cell_type": "code",
   "execution_count": 337,
   "metadata": {},
   "outputs": [
    {
     "data": {
      "text/html": [
       "<div>\n",
       "<style scoped>\n",
       "    .dataframe tbody tr th:only-of-type {\n",
       "        vertical-align: middle;\n",
       "    }\n",
       "\n",
       "    .dataframe tbody tr th {\n",
       "        vertical-align: top;\n",
       "    }\n",
       "\n",
       "    .dataframe thead th {\n",
       "        text-align: right;\n",
       "    }\n",
       "</style>\n",
       "<table border=\"1\" class=\"dataframe\">\n",
       "  <thead>\n",
       "    <tr style=\"text-align: right;\">\n",
       "      <th></th>\n",
       "      <th>col</th>\n",
       "      <th>Score</th>\n",
       "    </tr>\n",
       "  </thead>\n",
       "  <tbody>\n",
       "    <tr>\n",
       "      <th>0</th>\n",
       "      <td>A: Total number of customers</td>\n",
       "      <td>3.411918e+05</td>\n",
       "    </tr>\n",
       "    <tr>\n",
       "      <th>1</th>\n",
       "      <td>C: Total revenue: total</td>\n",
       "      <td>6.253087e+10</td>\n",
       "    </tr>\n",
       "    <tr>\n",
       "      <th>2</th>\n",
       "      <td>D: Cents per total</td>\n",
       "      <td>6.043693e+02</td>\n",
       "    </tr>\n",
       "    <tr>\n",
       "      <th>3</th>\n",
       "      <td>E: Use per total</td>\n",
       "      <td>4.472764e+02</td>\n",
       "    </tr>\n",
       "    <tr>\n",
       "      <th>4</th>\n",
       "      <td>F: Rands per total</td>\n",
       "      <td>5.227427e+03</td>\n",
       "    </tr>\n",
       "  </tbody>\n",
       "</table>\n",
       "</div>"
      ],
      "text/plain": [
       "                            col         Score\n",
       "0  A: Total number of customers  3.411918e+05\n",
       "1       C: Total revenue: total  6.253087e+10\n",
       "2            D: Cents per total  6.043693e+02\n",
       "3              E: Use per total  4.472764e+02\n",
       "4            F: Rands per total  5.227427e+03"
      ]
     },
     "execution_count": 337,
     "metadata": {},
     "output_type": "execute_result"
    }
   ],
   "source": [
    "featureScores"
   ]
  },
  {
   "cell_type": "code",
   "execution_count": 338,
   "metadata": {},
   "outputs": [
    {
     "name": "stdout",
     "output_type": "stream",
     "text": [
      "                            col         Score\n",
      "1       C: Total revenue: total  6.253087e+10\n",
      "0  A: Total number of customers  3.411918e+05\n",
      "4            F: Rands per total  5.227427e+03\n",
      "2            D: Cents per total  6.043693e+02\n"
     ]
    }
   ],
   "source": [
    "# Print the 6 best features\n",
    "print(featureScores.nlargest(4,'Score'))"
   ]
  },
  {
   "cell_type": "code",
   "execution_count": 340,
   "metadata": {},
   "outputs": [
    {
     "data": {
      "image/png": "[encoded data removed]",
      "text/plain": [
       "<Figure size 432x288 with 1 Axes>"
      ]
     },
     "metadata": {
      "needs_background": "light"
     },
     "output_type": "display_data"
    },
    {
     "data": {
      "text/plain": [
       "<Figure size 432x288 with 0 Axes>"
      ]
     },
     "metadata": {},
     "output_type": "display_data"
    }
   ],
   "source": [
    "sns.countplot(data=power, x='Energy (kWh) sold', palette='hls')\n",
    "plt.show()\n",
    "plt.savefig('count_plot')"
   ]
  },
  {
   "cell_type": "markdown",
   "metadata": {},
   "source": [
    "#### Correlation Matrix with Heatmap"
   ]
  },
  {
   "cell_type": "code",
   "execution_count": 339,
   "metadata": {
    "scrolled": false
   },
   "outputs": [
    {
     "data": {
      "text/plain": [
       "<matplotlib.axes._subplots.AxesSubplot at 0x258f3031c08>"
      ]
     },
     "execution_count": 339,
     "metadata": {},
     "output_type": "execute_result"
    },
    {
     "data": {
      "image/png": "[encoded data removed]",
      "text/plain": [
       "<Figure size 1152x576 with 2 Axes>"
      ]
     },
     "metadata": {
      "needs_background": "light"
     },
     "output_type": "display_data"
    }
   ],
   "source": [
    "#The correlation of each feauture in the dataset\n",
    "corrmat = power.corr()\n",
    "top_corr_features = corrmat.index\n",
    "plt.figure(figsize=(16,8))\n",
    "#We plot the heatmap\n",
    "sns.heatmap(power[top_corr_features].corr(), annot=True, cmap='RdYlGn')"
   ]
  },
  {
   "cell_type": "markdown",
   "metadata": {},
   "source": [
    "## BUILDING  AND DEPLOYING MODELS"
   ]
  },
  {
   "cell_type": "markdown",
   "metadata": {},
   "source": [
    "#### Split the dataset\n",
    "To understand the model perfomance we split the datasets into training set and test set."
   ]
  },
  {
   "cell_type": "code",
   "execution_count": 342,
   "metadata": {},
   "outputs": [],
   "source": [
    "# Split X and y into training and testing set.\n",
    "from sklearn.model_selection import train_test_split"
   ]
  },
  {
   "cell_type": "code",
   "execution_count": 343,
   "metadata": {},
   "outputs": [],
   "source": [
    "X_train, X_test, y_train, y_test = train_test_split(X, y, test_size=0.25, random_state=0)"
   ]
  },
  {
   "cell_type": "markdown",
   "metadata": {},
   "source": [
    "The 75% of the data will be used for model training and 25% for model testing."
   ]
  },
  {
   "cell_type": "code",
   "execution_count": 355,
   "metadata": {},
   "outputs": [],
   "source": [
    "# import the class\n",
    "from sklearn.linear_model import LogisticRegression"
   ]
  },
  {
   "cell_type": "code",
   "execution_count": 356,
   "metadata": {},
   "outputs": [
    {
     "name": "stderr",
     "output_type": "stream",
     "text": [
      "C:\\Users\\Student 95\\Anaconda3\\lib\\site-packages\\sklearn\\linear_model\\logistic.py:432: FutureWarning: Default solver will be changed to 'lbfgs' in 0.22. Specify a solver to silence this warning.\n",
      "  FutureWarning)\n",
      "C:\\Users\\Student 95\\Anaconda3\\lib\\site-packages\\sklearn\\linear_model\\logistic.py:469: FutureWarning: Default multi_class will be changed to 'auto' in 0.22. Specify the multi_class option to silence this warning.\n",
      "  \"this warning.\", FutureWarning)\n"
     ]
    }
   ],
   "source": [
    "#instantiate the model\n",
    "logreg = LogisticRegression()\n",
    "\n",
    "#fit the model with train data\n",
    "logreg.fit(X_train, y_train)\n",
    "\n",
    "#fit the model with predictor test data(X_test)\n",
    "y_pred = logreg.predict(X_test)"
   ]
  },
  {
   "cell_type": "code",
   "execution_count": 357,
   "metadata": {},
   "outputs": [
    {
     "data": {
      "text/plain": [
       "array([10556793479, 10556793479, 10316741850, 10549872192, 10316741850,\n",
       "       10556793479], dtype=int64)"
      ]
     },
     "execution_count": 357,
     "metadata": {},
     "output_type": "execute_result"
    }
   ],
   "source": [
    "y_pred"
   ]
  },
  {
   "cell_type": "code",
   "execution_count": 358,
   "metadata": {},
   "outputs": [
    {
     "data": {
      "text/plain": [
       "array([[0, 0, 0, 0, 0, 1, 0, 0, 0],\n",
       "       [0, 0, 0, 1, 0, 0, 0, 0, 0],\n",
       "       [0, 0, 0, 1, 0, 0, 0, 0, 0],\n",
       "       [0, 0, 0, 0, 0, 0, 0, 0, 0],\n",
       "       [0, 0, 0, 0, 0, 0, 0, 0, 0],\n",
       "       [0, 0, 0, 0, 0, 0, 0, 0, 0],\n",
       "       [0, 0, 0, 0, 1, 0, 0, 0, 0],\n",
       "       [0, 0, 0, 0, 0, 1, 0, 0, 0],\n",
       "       [0, 0, 0, 0, 0, 1, 0, 0, 0]], dtype=int64)"
      ]
     },
     "execution_count": 358,
     "metadata": {},
     "output_type": "execute_result"
    }
   ],
   "source": [
    "# import the metrics\n",
    "from sklearn import metrics\n",
    "cf_matrix = metrics.confusion_matrix(y_test, y_pred)\n",
    "cf_matrix"
   ]
  },
  {
   "cell_type": "code",
   "execution_count": 348,
   "metadata": {},
   "outputs": [],
   "source": [
    "# Import the libraries (pipeline and models)\n",
    "from sklearn.pipeline import Pipeline\n",
    "from sklearn.ensemble import RandomForestClassifier\n",
    "from sklearn.neighbors import KNeighborsClassifier\n",
    "from sklearn.tree import DecisionTreeClassifier\n",
    "from sklearn.linear_model import LogisticRegression"
   ]
  },
  {
   "cell_type": "code",
   "execution_count": 344,
   "metadata": {},
   "outputs": [],
   "source": [
    "pipeline_dt=Pipeline([('dt_classifier',DecisionTreeClassifier(random_state=0))])"
   ]
  },
  {
   "cell_type": "code",
   "execution_count": 345,
   "metadata": {},
   "outputs": [],
   "source": [
    "pipeline_rf=Pipeline([('rf_classifier',RandomForestClassifier())])"
   ]
  },
  {
   "cell_type": "code",
   "execution_count": 346,
   "metadata": {},
   "outputs": [],
   "source": [
    "pipeline_knn=Pipeline([('kn_classifier',KNeighborsClassifier())])"
   ]
  },
  {
   "cell_type": "code",
   "execution_count": 349,
   "metadata": {},
   "outputs": [],
   "source": [
    "pipeline_lr=Pipeline([('lr_classifier',LogisticRegression())])"
   ]
  },
  {
   "cell_type": "code",
   "execution_count": 350,
   "metadata": {},
   "outputs": [],
   "source": [
    "#Make the list of pipelines\n",
    "pipelines = [pipeline_dt,pipeline_rf,pipeline_knn,pipeline_lr]"
   ]
  },
  {
   "cell_type": "code",
   "execution_count": 351,
   "metadata": {},
   "outputs": [],
   "source": [
    "best_accuracy=0.0\n",
    "best_classifier=0\n",
    "best_pipeline=\"\""
   ]
  },
  {
   "cell_type": "code",
   "execution_count": 352,
   "metadata": {},
   "outputs": [
    {
     "name": "stderr",
     "output_type": "stream",
     "text": [
      "C:\\Users\\Student 95\\Anaconda3\\lib\\site-packages\\sklearn\\ensemble\\forest.py:245: FutureWarning: The default value of n_estimators will change from 10 in version 0.20 to 100 in 0.22.\n",
      "  \"10 in version 0.20 to 100 in 0.22.\", FutureWarning)\n",
      "C:\\Users\\Student 95\\Anaconda3\\lib\\site-packages\\sklearn\\linear_model\\logistic.py:432: FutureWarning: Default solver will be changed to 'lbfgs' in 0.22. Specify a solver to silence this warning.\n",
      "  FutureWarning)\n",
      "C:\\Users\\Student 95\\Anaconda3\\lib\\site-packages\\sklearn\\linear_model\\logistic.py:469: FutureWarning: Default multi_class will be changed to 'auto' in 0.22. Specify the multi_class option to silence this warning.\n",
      "  \"this warning.\", FutureWarning)\n"
     ]
    }
   ],
   "source": [
    "#Dictionery of pipelines and classifier type for ease of reference\n",
    "pipe_dict = {0: 'Decision Tree', 1: 'RandomForest', 2: 'KNeighbors', 3:'Logistic Regression'}\n",
    "\n",
    "#Fit the pipilines\n",
    "for pipe in pipelines:\n",
    "    pipe.fit(X_train, y_train)"
   ]
  },
  {
   "cell_type": "code",
   "execution_count": 353,
   "metadata": {},
   "outputs": [
    {
     "name": "stdout",
     "output_type": "stream",
     "text": [
      "Decision Tree Test Accuracy: 0.0\n",
      "RandomForest Test Accuracy: 0.0\n",
      "KNeighbors Test Accuracy: 0.0\n",
      "Logistic Regression Test Accuracy: 0.0\n"
     ]
    }
   ],
   "source": [
    "for i,model in enumerate(pipelines):\n",
    "    print(\"{} Test Accuracy: {}\".format(pipe_dict[i],model.score(X_test,y_test)))"
   ]
  },
  {
   "cell_type": "code",
   "execution_count": 354,
   "metadata": {},
   "outputs": [
    {
     "name": "stdout",
     "output_type": "stream",
     "text": [
      "Classifier with best accuracy:Decision Tree\n"
     ]
    }
   ],
   "source": [
    "for i,model in enumerate(pipelines):\n",
    "    if model.score(X_test,y_test)>best_accuracy:\n",
    "        best_accuracy=model.score(X_test,y_test)\n",
    "        best_pipeline=model\n",
    "        best_classifier=i\n",
    "print('Classifier with best accuracy:{}'.format(pipe_dict[best_classifier])) "
   ]
  },
  {
   "cell_type": "markdown",
   "metadata": {},
   "source": [
    "### The Predicted Results for each Agorithm"
   ]
  },
  {
   "cell_type": "markdown",
   "metadata": {},
   "source": [
    "#### Decision Tree Predicted Results"
   ]
  },
  {
   "cell_type": "code",
   "execution_count": 359,
   "metadata": {},
   "outputs": [],
   "source": [
    "y_pred_0 = pipeline_dt.predict(X_test)"
   ]
  },
  {
   "cell_type": "code",
   "execution_count": 360,
   "metadata": {},
   "outputs": [
    {
     "data": {
      "text/plain": [
       "array([10920221425, 10556793479, 10316741850, 10798574412,  9984286923,\n",
       "        8941330717], dtype=int64)"
      ]
     },
     "execution_count": 360,
     "metadata": {},
     "output_type": "execute_result"
    }
   ],
   "source": [
    "y_pred_0"
   ]
  },
  {
   "cell_type": "markdown",
   "metadata": {},
   "source": [
    "#### Random Forest Predicted Results"
   ]
  },
  {
   "cell_type": "code",
   "execution_count": 364,
   "metadata": {},
   "outputs": [],
   "source": [
    "y_pred_1 = pipeline_rf.predict(X_test)"
   ]
  },
  {
   "cell_type": "code",
   "execution_count": 365,
   "metadata": {},
   "outputs": [
    {
     "data": {
      "text/plain": [
       "array([10556793479, 10556793479, 10316741850, 10798574412,  9984286923,\n",
       "        9073412900], dtype=int64)"
      ]
     },
     "execution_count": 365,
     "metadata": {},
     "output_type": "execute_result"
    }
   ],
   "source": [
    "y_pred_1"
   ]
  },
  {
   "cell_type": "markdown",
   "metadata": {},
   "source": [
    "#### KNeighborsClassifier Predicted Results"
   ]
  },
  {
   "cell_type": "code",
   "execution_count": 362,
   "metadata": {},
   "outputs": [],
   "source": [
    "y_pred_3 = pipeline_knn.predict(X_test)"
   ]
  },
  {
   "cell_type": "code",
   "execution_count": 363,
   "metadata": {},
   "outputs": [
    {
     "data": {
      "text/plain": [
       "array([10015115502,  9589115852,  9984286923, 10549872192,  9984286923,\n",
       "        8941330717], dtype=int64)"
      ]
     },
     "execution_count": 363,
     "metadata": {},
     "output_type": "execute_result"
    }
   ],
   "source": [
    "y_pred_3"
   ]
  },
  {
   "cell_type": "markdown",
   "metadata": {},
   "source": [
    "#### LogisticRegression Predicted Results"
   ]
  },
  {
   "cell_type": "code",
   "execution_count": 366,
   "metadata": {},
   "outputs": [],
   "source": [
    "y_pred_4=pipeline_lr.predict(X_test)"
   ]
  },
  {
   "cell_type": "code",
   "execution_count": 367,
   "metadata": {},
   "outputs": [
    {
     "data": {
      "text/plain": [
       "array([10556793479, 10556793479, 10316741850, 10549872192, 10316741850,\n",
       "       10556793479], dtype=int64)"
      ]
     },
     "execution_count": 367,
     "metadata": {},
     "output_type": "execute_result"
    }
   ],
   "source": [
    "y_pred_4"
   ]
  },
  {
   "cell_type": "markdown",
   "metadata": {},
   "source": [
    "### Testing the Model Performance of the Decision Tree"
   ]
  },
  {
   "cell_type": "code",
   "execution_count": 401,
   "metadata": {},
   "outputs": [],
   "source": [
    "# Use the forest's predict method on the test data\n",
    "predictions = pipeline_dt.predict(X_test)"
   ]
  },
  {
   "cell_type": "code",
   "execution_count": 402,
   "metadata": {},
   "outputs": [],
   "source": [
    "# Calculate the absolute errors\n",
    "errors = abs(predictions - y_test)"
   ]
  },
  {
   "cell_type": "code",
   "execution_count": 404,
   "metadata": {},
   "outputs": [],
   "source": [
    "import numpy as np "
   ]
  },
  {
   "cell_type": "code",
   "execution_count": 405,
   "metadata": {},
   "outputs": [
    {
     "name": "stdout",
     "output_type": "stream",
     "text": [
      "Mean Absolute Error: 218936983.33 degrees.\n"
     ]
    }
   ],
   "source": [
    "# Print out the mean absolute error (mae)\n",
    "print('Mean Absolute Error:', round(np.mean(errors), 2), 'degrees.')"
   ]
  },
  {
   "cell_type": "code",
   "execution_count": 406,
   "metadata": {},
   "outputs": [],
   "source": [
    "# Calculate mean absolute percentage error (MAPE)\n",
    "mape = 100 * (errors / y_test)"
   ]
  },
  {
   "cell_type": "code",
   "execution_count": 407,
   "metadata": {},
   "outputs": [],
   "source": [
    "# Calculate and display accuracy\n",
    "accuracy = 100 - np.mean(mape)"
   ]
  },
  {
   "cell_type": "code",
   "execution_count": 408,
   "metadata": {},
   "outputs": [
    {
     "name": "stdout",
     "output_type": "stream",
     "text": [
      "Accuracy: 97.9 %.\n"
     ]
    }
   ],
   "source": [
    "print('Accuracy:', round(accuracy, 2), '%.')"
   ]
  },
  {
   "cell_type": "markdown",
   "metadata": {},
   "source": [
    "#Our model has learned to predict using the train and test dataset with an accuracy of 97.9%"
   ]
  },
  {
   "cell_type": "markdown",
   "metadata": {},
   "source": [
    "# Ensemble Learning (The performance of boosting models)"
   ]
  },
  {
   "cell_type": "markdown",
   "metadata": {},
   "source": [
    "Ensemble techniques combine individual models together to improve the stabilty and predictive power of the model.\n",
    "One of the ensemble methods are Boosting and Gradient Boosting model.\n",
    "\n",
    "Boosting technique reduce bias by adding all the weak learners sequantially, each classifier trying to correct its predecessor.\n",
    "\n",
    "Gradient Boosting minimizes the loss function(MSE)of a models by adding weak learners using a gradient descesnt procedure."
   ]
  },
  {
   "cell_type": "markdown",
   "metadata": {},
   "source": [
    "#### Building Models\n",
    "+ Gradient BoostingRegressor\n",
    "+ XGBoost"
   ]
  },
  {
   "cell_type": "code",
   "execution_count": 371,
   "metadata": {},
   "outputs": [],
   "source": [
    "#From sklearn we load Gradient Boosting\n",
    "from sklearn.ensemble import GradientBoostingRegressor"
   ]
  },
  {
   "cell_type": "code",
   "execution_count": 372,
   "metadata": {},
   "outputs": [
    {
     "name": "stdout",
     "output_type": "stream",
     "text": [
      "Wall time: 979 ms\n"
     ]
    },
    {
     "data": {
      "text/plain": [
       "GradientBoostingRegressor(alpha=0.9, criterion='friedman_mse', init=None,\n",
       "                          learning_rate=0.1, loss='ls', max_depth=3,\n",
       "                          max_features=None, max_leaf_nodes=None,\n",
       "                          min_impurity_decrease=0.0, min_impurity_split=None,\n",
       "                          min_samples_leaf=1, min_samples_split=2,\n",
       "                          min_weight_fraction_leaf=0.0, n_estimators=100,\n",
       "                          n_iter_no_change=None, presort='auto',\n",
       "                          random_state=None, subsample=1.0, tol=0.0001,\n",
       "                          validation_fraction=0.1, verbose=0, warm_start=False)"
      ]
     },
     "execution_count": 372,
     "metadata": {},
     "output_type": "execute_result"
    }
   ],
   "source": [
    "%%time\n",
    "GB_regressor = GradientBoostingRegressor()\n",
    "GB_regressor.fit(X_train,y_train)"
   ]
  },
  {
   "cell_type": "code",
   "execution_count": 373,
   "metadata": {},
   "outputs": [],
   "source": [
    "y_predictions = GB_regressor.predict(X_train)"
   ]
  },
  {
   "cell_type": "code",
   "execution_count": 374,
   "metadata": {},
   "outputs": [
    {
     "data": {
      "text/plain": [
       "array([1.09243165e+10, 1.03166666e+10, 1.07449554e+10, 1.04578736e+10,\n",
       "       1.00151281e+10, 1.05500777e+10, 9.40746125e+09, 9.07346045e+09,\n",
       "       9.58914860e+09, 1.01866094e+10, 1.05568265e+10, 1.02909703e+10,\n",
       "       9.98454103e+09, 9.19595606e+09, 8.94142452e+09, 1.07985687e+10,\n",
       "       1.09202224e+10])"
      ]
     },
     "execution_count": 374,
     "metadata": {},
     "output_type": "execute_result"
    }
   ],
   "source": [
    "y_predictions"
   ]
  },
  {
   "cell_type": "code",
   "execution_count": 376,
   "metadata": {},
   "outputs": [],
   "source": [
    "from sklearn.metrics import r2_score, mean_squared_error"
   ]
  },
  {
   "cell_type": "code",
   "execution_count": 377,
   "metadata": {},
   "outputs": [
    {
     "name": "stdout",
     "output_type": "stream",
     "text": [
      "Score of Model: 0.9999999565419011\n",
      "Mean square error: 17531906976.256783\n"
     ]
    }
   ],
   "source": [
    "print('Score of Model:', r2_score(y_train,y_predictions))\n",
    "print('Mean square error:', mean_squared_error(y_train, y_predictions))"
   ]
  },
  {
   "cell_type": "markdown",
   "metadata": {},
   "source": [
    "Test predictions"
   ]
  },
  {
   "cell_type": "code",
   "execution_count": 378,
   "metadata": {},
   "outputs": [],
   "source": [
    "y_predictions = GB_regressor.predict(X_test)"
   ]
  },
  {
   "cell_type": "code",
   "execution_count": 379,
   "metadata": {},
   "outputs": [
    {
     "data": {
      "text/plain": [
       "array([1.06384553e+10, 1.05568265e+10, 1.01587532e+10, 1.08454812e+10,\n",
       "       1.01297198e+10, 9.00367055e+09])"
      ]
     },
     "execution_count": 379,
     "metadata": {},
     "output_type": "execute_result"
    }
   ],
   "source": [
    "y_predictions"
   ]
  },
  {
   "cell_type": "code",
   "execution_count": 380,
   "metadata": {},
   "outputs": [
    {
     "name": "stdout",
     "output_type": "stream",
     "text": [
      "Score of Model: 0.8054464056490706\n",
      "Mean square error: 8.420147351667512e+16\n"
     ]
    }
   ],
   "source": [
    "print('Score of Model:', r2_score(y_test,y_predictions))\n",
    "print('Mean square error:', mean_squared_error(y_test,y_predictions))"
   ]
  },
  {
   "cell_type": "markdown",
   "metadata": {},
   "source": [
    "#This is pretty! good our model is doing well with the train dataset prediction of 97% accuracy."
   ]
  },
  {
   "cell_type": "markdown",
   "metadata": {},
   "source": [
    "#### XGBoost Modelling"
   ]
  },
  {
   "cell_type": "code",
   "execution_count": 381,
   "metadata": {},
   "outputs": [],
   "source": [
    "from xgboost import XGBRegressor"
   ]
  },
  {
   "cell_type": "code",
   "execution_count": 382,
   "metadata": {},
   "outputs": [
    {
     "name": "stdout",
     "output_type": "stream",
     "text": [
      "[06:17:51] WARNING: C:/Jenkins/workspace/xgboost-win64_release_0.90/src/objective/regression_obj.cu:152: reg:linear is now deprecated in favor of reg:squarederror.\n",
      "Wall time: 945 ms\n"
     ]
    },
    {
     "data": {
      "text/plain": [
       "XGBRegressor(base_score=0.5, booster='gbtree', colsample_bylevel=1,\n",
       "             colsample_bynode=1, colsample_bytree=1, gamma=0,\n",
       "             importance_type='gain', learning_rate=0.1, max_delta_step=0,\n",
       "             max_depth=3, min_child_weight=1, missing=None, n_estimators=100,\n",
       "             n_jobs=1, nthread=None, objective='reg:linear', random_state=0,\n",
       "             reg_alpha=0, reg_lambda=1, scale_pos_weight=1, seed=None,\n",
       "             silent=None, subsample=1, verbosity=1)"
      ]
     },
     "execution_count": 382,
     "metadata": {},
     "output_type": "execute_result"
    }
   ],
   "source": [
    "%%time\n",
    "xgb_regressor = XGBRegressor()\n",
    "xgb_regressor.fit(X_train, y_train)"
   ]
  },
  {
   "cell_type": "code",
   "execution_count": 383,
   "metadata": {},
   "outputs": [],
   "source": [
    "y_prediction2 = xgb_regressor.predict(X_train)"
   ]
  },
  {
   "cell_type": "code",
   "execution_count": 384,
   "metadata": {},
   "outputs": [
    {
     "data": {
      "text/plain": [
       "array([1.0905737e+10, 1.0301462e+10, 1.0744779e+10, 1.0457126e+10,\n",
       "       1.0014820e+10, 1.0553123e+10, 9.4075187e+09, 9.0740449e+09,\n",
       "       9.5885169e+09, 1.0187480e+10, 1.0556584e+10, 1.0285872e+10,\n",
       "       1.0001074e+10, 9.1964006e+09, 8.9443379e+09, 1.0800726e+10,\n",
       "       1.0905737e+10], dtype=float32)"
      ]
     },
     "execution_count": 384,
     "metadata": {},
     "output_type": "execute_result"
    }
   ],
   "source": [
    "y_prediction2"
   ]
  },
  {
   "cell_type": "code",
   "execution_count": 385,
   "metadata": {},
   "outputs": [
    {
     "name": "stdout",
     "output_type": "stream",
     "text": [
      "Score of Model : 0.9998344158292763\n",
      "Mean square error : 66800121295946.65\n"
     ]
    }
   ],
   "source": [
    "print('Score of Model :', r2_score(y_train,y_prediction2))\n",
    "print('Mean square error :', mean_squared_error(y_train,y_prediction2))"
   ]
  },
  {
   "cell_type": "markdown",
   "metadata": {},
   "source": [
    "Test predictions"
   ]
  },
  {
   "cell_type": "code",
   "execution_count": 386,
   "metadata": {},
   "outputs": [],
   "source": [
    "y_prediction3 = xgb_regressor.predict(X_test)"
   ]
  },
  {
   "cell_type": "code",
   "execution_count": 387,
   "metadata": {},
   "outputs": [
    {
     "data": {
      "text/plain": [
       "array([1.0905737e+10, 1.0556584e+10, 1.0301462e+10, 1.0905737e+10,\n",
       "       1.0001074e+10, 8.9443379e+09], dtype=float32)"
      ]
     },
     "execution_count": 387,
     "metadata": {},
     "output_type": "execute_result"
    }
   ],
   "source": [
    "y_prediction3"
   ]
  },
  {
   "cell_type": "code",
   "execution_count": 388,
   "metadata": {},
   "outputs": [
    {
     "name": "stdout",
     "output_type": "stream",
     "text": [
      "Score of Model : 0.8531631506644078\n",
      "Mean square error : 6.354999054040252e+16\n"
     ]
    }
   ],
   "source": [
    "print('Score of Model :', r2_score(y_test,y_prediction3))\n",
    "print('Mean square error :', mean_squared_error(y_test,y_prediction3))"
   ]
  },
  {
   "cell_type": "markdown",
   "metadata": {},
   "source": [
    "#### Observations\n",
    "+ As we apply above the ensemble models we come to observe the performance of these model in productionization\n",
    "  Gradient Boost is the best model with 99% accuracy compared to Xtreme Gradient Boost with 85% accuracy.\n",
    "+ We also note that Gradient Boost is the slowest model with 979 ms compared to Xtreme GB which ran 945 ms.\n",
    "+ We can improve our ensembe learning models by doing more feature engineering:\n",
    "    + Removing outliers\n",
    "    + Dropping columns with low variance of about 0.01 threshold value\n",
    "    + Checking some correlation of the indexes and remove those columns with same correlation as it denotes duplicates\n",
    "    + Implementing the models using hyperparameter tuning."
   ]
  },
  {
   "cell_type": "code",
   "execution_count": null,
   "metadata": {},
   "outputs": [],
   "source": []
  }
 ],
 "metadata": {
  "kernelspec": {
   "display_name": "Python 3",
   "language": "python",
   "name": "python3"
  },
  "language_info": {
   "codemirror_mode": {
    "name": "ipython",
    "version": 3
   },
   "file_extension": ".py",
   "mimetype": "text/x-python",
   "name": "python",
   "nbconvert_exporter": "python",
   "pygments_lexer": "ipython3",
   "version": "3.7.4"
  }
 },
 "nbformat": 4,
 "nbformat_minor": 2
}
